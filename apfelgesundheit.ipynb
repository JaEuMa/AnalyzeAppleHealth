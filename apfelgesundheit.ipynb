{
 "metadata": {
  "language_info": {
   "codemirror_mode": {
    "name": "ipython",
    "version": 3
   },
   "file_extension": ".py",
   "mimetype": "text/x-python",
   "name": "python",
   "nbconvert_exporter": "python",
   "pygments_lexer": "ipython3",
   "version": "3.8.0-final"
  },
  "orig_nbformat": 2,
  "kernelspec": {
   "name": "python3",
   "display_name": "Python 3",
   "language": "python"
  }
 },
 "nbformat": 4,
 "nbformat_minor": 2,
 "cells": [
  {
   "cell_type": "code",
   "execution_count": 1,
   "metadata": {},
   "outputs": [
    {
     "output_type": "execute_result",
     "data": {
      "text/plain": [
       "array(['HKQuantityTypeIdentifierDietaryWater',\n",
       "       'HKQuantityTypeIdentifierHeight',\n",
       "       'HKQuantityTypeIdentifierBodyMass',\n",
       "       'HKQuantityTypeIdentifierStepCount',\n",
       "       'HKQuantityTypeIdentifierDistanceWalkingRunning',\n",
       "       'HKQuantityTypeIdentifierActiveEnergyBurned',\n",
       "       'HKQuantityTypeIdentifierFlightsClimbed',\n",
       "       'HKQuantityTypeIdentifierHeadphoneAudioExposure',\n",
       "       'HKQuantityTypeIdentifierWalkingDoubleSupportPercentage',\n",
       "       'HKQuantityTypeIdentifierWalkingSpeed',\n",
       "       'HKQuantityTypeIdentifierWalkingStepLength',\n",
       "       'HKQuantityTypeIdentifierWalkingAsymmetryPercentage',\n",
       "       'HKDataTypeSleepDurationGoal',\n",
       "       'HKCategoryTypeIdentifierSleepAnalysis',\n",
       "       'HKCategoryTypeIdentifierHeadphoneAudioExposureEvent'],\n",
       "      dtype=object)"
      ]
     },
     "metadata": {},
     "execution_count": 1
    }
   ],
   "source": [
    "import pandas as pd\n",
    "import xml.etree.ElementTree as et \n",
    "import xmltodict\n",
    "import seaborn as sns\n",
    "import plotly.graph_objects as go\n",
    "\n",
    "\n",
    "input_path = './export.xml'\n",
    "\n",
    "with open(input_path, 'r') as xml_file:\n",
    "    input_data = xmltodict.parse(xml_file.read())\n",
    "\n",
    "records_list = input_data['HealthData']['Record']\n",
    "\n",
    "df = pd.DataFrame(records_list)\n",
    "\n",
    "df['@type'].unique()\n",
    "\n",
    "# convert to date fromat\n",
    "format = '%Y-%m-%d %H:%M:%S %z'\n",
    "\n",
    "df['@creationDate'] = pd.to_datetime(df['@creationDate'],\n",
    "                                     format=format)\n",
    "df['@startDate'] = pd.to_datetime(df['@startDate'],\n",
    "                                  format=format)\n",
    "df['@endDate'] = pd.to_datetime(df['@endDate'],\n",
    "                                format=format)\n",
    "\n",
    "# rename coumns\n",
    "df = df.rename(columns={\"@type\": \"type\", \n",
    "\"@sourceName\": \"dataSource\", \n",
    "\"@creationDate\": \"creationDate\", \n",
    "\"@sourceVersion\": \"sourceVersion\", \n",
    "\"@startDate\": \"startDate\",\n",
    "\"@endDate\": \"endDate\",\n",
    "\"@value\": \"value\",\n",
    "\"@device\": \"device\",\n",
    "\"@unit\": \"unit\"} , errors=\"raise\")\n",
    "\n",
    "\n",
    "\n",
    "\n",
    "\n",
    "df.type.unique()"
   ]
  },
  {
   "source": [
    "# Create daily dataframe"
   ],
   "cell_type": "markdown",
   "metadata": {}
  },
  {
   "cell_type": "code",
   "execution_count": 2,
   "metadata": {},
   "outputs": [
    {
     "output_type": "execute_result",
     "data": {
      "text/plain": [
       "                           activeEnergyBurned\n",
       "creationDate                                 \n",
       "2020-12-10 00:00:00+01:00             40.4625\n",
       "2020-12-11 00:00:00+01:00             68.4750"
      ],
      "text/html": "<div>\n<style scoped>\n    .dataframe tbody tr th:only-of-type {\n        vertical-align: middle;\n    }\n\n    .dataframe tbody tr th {\n        vertical-align: top;\n    }\n\n    .dataframe thead th {\n        text-align: right;\n    }\n</style>\n<table border=\"1\" class=\"dataframe\">\n  <thead>\n    <tr style=\"text-align: right;\">\n      <th></th>\n      <th>activeEnergyBurned</th>\n    </tr>\n    <tr>\n      <th>creationDate</th>\n      <th></th>\n    </tr>\n  </thead>\n  <tbody>\n    <tr>\n      <th>2020-12-10 00:00:00+01:00</th>\n      <td>40.4625</td>\n    </tr>\n    <tr>\n      <th>2020-12-11 00:00:00+01:00</th>\n      <td>68.4750</td>\n    </tr>\n  </tbody>\n</table>\n</div>"
     },
     "metadata": {},
     "execution_count": 2
    }
   ],
   "source": [
    "### Steps ###\n",
    "\n",
    "# make dataframe with steps\n",
    "dfSteps = df[df['type'] == 'HKQuantityTypeIdentifierStepCount']\n",
    " \n",
    "# convert to numeric value\n",
    "dfSteps.loc[:, 'value'] = pd.to_numeric(\n",
    "    dfSteps.loc[:, 'value'])\n",
    "\n",
    "\n",
    "# limit the devices in case of multiple devices\n",
    "#df = df[df['@sourceName'] == 'iPhone XS']\n",
    "\n",
    "#group by date\n",
    "dfSteps = dfSteps.groupby('creationDate').sum()\n",
    "\n",
    "# sum up over day\n",
    "dfSteps = dfSteps.resample('D').sum()\n",
    "\n",
    "dfSteps = dfSteps.rename(columns={\"value\": \"steps\"} , errors=\"raise\")\n",
    "\n",
    "### Water ###\n",
    "\n",
    "# make dataframe with steps\n",
    "dfWater = df[df['type'] == 'HKQuantityTypeIdentifierDietaryWater']\n",
    "\n",
    " \n",
    "# convert to numeric value\n",
    "dfWater.loc[:, 'value'] = pd.to_numeric(\n",
    "    dfWater.loc[:, 'value'])\n",
    "\n",
    "# limit the devices in case of multiple devices\n",
    "#df = df[df['@sourceName'] == 'iPhone XS']\n",
    "\n",
    "#group by date\n",
    "dfWater = dfWater.groupby('creationDate').sum()\n",
    "\n",
    "# sum up over day\n",
    "dfWater = dfWater.resample('D').sum()\n",
    "\n",
    "dfWater = dfWater.rename(columns={\"value\": \"waterVolume\"} , errors=\"raise\")\n",
    "\n",
    "### Walking speed ###\n",
    "\n",
    "# make dataframe with steps\n",
    "dfWalkingSpeed = df[df['type'] == 'HKQuantityTypeIdentifierWalkingSpeed']\n",
    "\n",
    " \n",
    "# convert to numeric value\n",
    "dfWalkingSpeed.loc[:, 'value'] = pd.to_numeric(\n",
    "    dfWalkingSpeed.loc[:, 'value'])\n",
    "\n",
    "# limit the devices in case of multiple devices\n",
    "#df = df[df['@sourceName'] == 'iPhone XS']\n",
    "\n",
    "#group by date\n",
    "dfWalkingSpeed = dfWalkingSpeed.groupby('creationDate').mean()\n",
    "\n",
    "# sum up over day\n",
    "dfWalkingSpeed = dfWalkingSpeed.resample('D').mean()\n",
    "\n",
    "dfWalkingSpeed = dfWalkingSpeed.rename(columns={\"value\": \"walkingSpeed\"} , errors=\"raise\")\n",
    "\n",
    "### Step Length ###\n",
    "\n",
    "# make dataframe with steps\n",
    "dfStepLength = df[df['type'] == 'HKQuantityTypeIdentifierWalkingStepLength']\n",
    "\n",
    " \n",
    "# convert to numeric value\n",
    "dfStepLength.loc[:, 'value'] = pd.to_numeric(\n",
    "    dfStepLength.loc[:, 'value'])\n",
    "\n",
    "# limit the devices in case of multiple devices\n",
    "#df = df[df['@sourceName'] == 'iPhone XS']\n",
    "\n",
    "#group by date\n",
    "dfStepLength = dfStepLength.groupby('creationDate').mean()\n",
    "\n",
    "# sum up over day\n",
    "dfStepLength = dfStepLength.resample('D').mean()\n",
    "\n",
    "dfStepLength = dfStepLength.rename(columns={\"value\": \"stepLength\"} , errors=\"raise\")\n",
    "\n",
    "### Active Energy Burned ###\n",
    "\n",
    "# make dataframe with steps\n",
    "dfActiveEnergyBurned = df[df['type'] == 'HKQuantityTypeIdentifierActiveEnergyBurned']\n",
    "\n",
    " \n",
    "# convert to numeric value\n",
    "dfActiveEnergyBurned.loc[:, 'value'] = pd.to_numeric(\n",
    "    dfActiveEnergyBurned.loc[:, 'value'])\n",
    "\n",
    "# limit the devices in case of multiple devices\n",
    "#df = df[df['@sourceName'] == 'iPhone XS']\n",
    "\n",
    "#group by date\n",
    "dfActiveEnergyBurned = dfActiveEnergyBurned.groupby('creationDate').sum()\n",
    "\n",
    "# sum up over day\n",
    "dfActiveEnergyBurned = dfActiveEnergyBurned.resample('D').sum()\n",
    "\n",
    "dfActiveEnergyBurned = dfActiveEnergyBurned.rename(columns={\"value\": \"activeEnergyBurned\"} , errors=\"raise\")\n",
    "\n",
    "dfActiveEnergyBurned\n",
    "\n",
    "\n",
    "\n"
   ]
  },
  {
   "cell_type": "code",
   "execution_count": 3,
   "metadata": {},
   "outputs": [
    {
     "output_type": "display_data",
     "data": {
      "application/vnd.plotly.v1+json": {
       "config": {
        "plotlyServerURL": "https://plot.ly"
       },
       "data": [
        {
         "mode": "markers",
         "type": "scatter",
         "x": [
          "2020-11-27T00:00:00+01:00",
          "2020-11-28T00:00:00+01:00",
          "2020-11-29T00:00:00+01:00",
          "2020-11-30T00:00:00+01:00",
          "2020-12-01T00:00:00+01:00",
          "2020-12-02T00:00:00+01:00",
          "2020-12-03T00:00:00+01:00",
          "2020-12-04T00:00:00+01:00",
          "2020-12-05T00:00:00+01:00",
          "2020-12-06T00:00:00+01:00",
          "2020-12-07T00:00:00+01:00",
          "2020-12-08T00:00:00+01:00",
          "2020-12-09T00:00:00+01:00",
          "2020-12-10T00:00:00+01:00",
          "2020-12-11T00:00:00+01:00",
          "2020-12-12T00:00:00+01:00",
          "2020-12-13T00:00:00+01:00",
          "2020-12-14T00:00:00+01:00",
          "2020-12-15T00:00:00+01:00",
          "2020-12-16T00:00:00+01:00",
          "2020-12-17T00:00:00+01:00",
          "2020-12-18T00:00:00+01:00",
          "2020-12-19T00:00:00+01:00",
          "2020-12-20T00:00:00+01:00",
          "2020-12-21T00:00:00+01:00",
          "2020-12-22T00:00:00+01:00",
          "2020-12-23T00:00:00+01:00",
          "2020-12-24T00:00:00+01:00",
          "2020-12-25T00:00:00+01:00",
          "2020-12-26T00:00:00+01:00",
          "2020-12-27T00:00:00+01:00",
          "2020-12-28T00:00:00+01:00",
          "2020-12-29T00:00:00+01:00",
          "2020-12-30T00:00:00+01:00",
          "2020-12-31T00:00:00+01:00",
          "2021-01-01T00:00:00+01:00",
          "2021-01-02T00:00:00+01:00",
          "2021-01-03T00:00:00+01:00",
          "2021-01-04T00:00:00+01:00",
          "2021-01-05T00:00:00+01:00",
          "2021-01-06T00:00:00+01:00",
          "2021-01-07T00:00:00+01:00",
          "2021-01-08T00:00:00+01:00",
          "2021-01-09T00:00:00+01:00",
          "2021-01-10T00:00:00+01:00",
          "2021-01-11T00:00:00+01:00",
          "2021-01-12T00:00:00+01:00",
          "2021-01-13T00:00:00+01:00",
          "2021-01-14T00:00:00+01:00",
          "2021-01-15T00:00:00+01:00",
          "2021-01-16T00:00:00+01:00",
          "2021-01-17T00:00:00+01:00",
          "2021-01-18T00:00:00+01:00",
          "2021-01-19T00:00:00+01:00",
          "2021-01-20T00:00:00+01:00",
          "2021-01-21T00:00:00+01:00",
          "2021-01-22T00:00:00+01:00",
          "2021-01-23T00:00:00+01:00",
          "2021-01-24T00:00:00+01:00",
          "2021-01-25T00:00:00+01:00",
          "2021-01-26T00:00:00+01:00",
          "2021-01-27T00:00:00+01:00",
          "2021-01-28T00:00:00+01:00",
          "2021-01-29T00:00:00+01:00",
          "2021-01-30T00:00:00+01:00",
          "2021-01-31T00:00:00+01:00",
          "2021-02-01T00:00:00+01:00",
          "2021-02-02T00:00:00+01:00",
          "2021-02-03T00:00:00+01:00",
          "2021-02-04T00:00:00+01:00"
         ],
         "y": [
          890,
          1874,
          1259,
          1503,
          3869,
          926,
          749,
          5441,
          455,
          1714,
          1111,
          3902,
          3099,
          706,
          1706,
          2437,
          2860,
          1429,
          3445,
          4649,
          319,
          2499,
          2882,
          1467,
          2572,
          4822,
          1863,
          2760,
          1058,
          1302,
          2423,
          3066,
          4065,
          832,
          4671,
          3522,
          2647,
          1406,
          3382,
          3029,
          3456,
          5549,
          2124,
          4128,
          3466,
          3112,
          2447,
          3249,
          4058,
          3831,
          3486,
          2794,
          4469,
          2542,
          3406,
          2886,
          2244,
          4106,
          8827,
          2091,
          4759,
          3091,
          3962,
          3047,
          3610,
          6121,
          4703,
          2179,
          4059,
          807
         ]
        }
       ],
       "layout": {
        "template": {
         "data": {
          "bar": [
           {
            "error_x": {
             "color": "#2a3f5f"
            },
            "error_y": {
             "color": "#2a3f5f"
            },
            "marker": {
             "line": {
              "color": "#E5ECF6",
              "width": 0.5
             }
            },
            "type": "bar"
           }
          ],
          "barpolar": [
           {
            "marker": {
             "line": {
              "color": "#E5ECF6",
              "width": 0.5
             }
            },
            "type": "barpolar"
           }
          ],
          "carpet": [
           {
            "aaxis": {
             "endlinecolor": "#2a3f5f",
             "gridcolor": "white",
             "linecolor": "white",
             "minorgridcolor": "white",
             "startlinecolor": "#2a3f5f"
            },
            "baxis": {
             "endlinecolor": "#2a3f5f",
             "gridcolor": "white",
             "linecolor": "white",
             "minorgridcolor": "white",
             "startlinecolor": "#2a3f5f"
            },
            "type": "carpet"
           }
          ],
          "choropleth": [
           {
            "colorbar": {
             "outlinewidth": 0,
             "ticks": ""
            },
            "type": "choropleth"
           }
          ],
          "contour": [
           {
            "colorbar": {
             "outlinewidth": 0,
             "ticks": ""
            },
            "colorscale": [
             [
              0,
              "#0d0887"
             ],
             [
              0.1111111111111111,
              "#46039f"
             ],
             [
              0.2222222222222222,
              "#7201a8"
             ],
             [
              0.3333333333333333,
              "#9c179e"
             ],
             [
              0.4444444444444444,
              "#bd3786"
             ],
             [
              0.5555555555555556,
              "#d8576b"
             ],
             [
              0.6666666666666666,
              "#ed7953"
             ],
             [
              0.7777777777777778,
              "#fb9f3a"
             ],
             [
              0.8888888888888888,
              "#fdca26"
             ],
             [
              1,
              "#f0f921"
             ]
            ],
            "type": "contour"
           }
          ],
          "contourcarpet": [
           {
            "colorbar": {
             "outlinewidth": 0,
             "ticks": ""
            },
            "type": "contourcarpet"
           }
          ],
          "heatmap": [
           {
            "colorbar": {
             "outlinewidth": 0,
             "ticks": ""
            },
            "colorscale": [
             [
              0,
              "#0d0887"
             ],
             [
              0.1111111111111111,
              "#46039f"
             ],
             [
              0.2222222222222222,
              "#7201a8"
             ],
             [
              0.3333333333333333,
              "#9c179e"
             ],
             [
              0.4444444444444444,
              "#bd3786"
             ],
             [
              0.5555555555555556,
              "#d8576b"
             ],
             [
              0.6666666666666666,
              "#ed7953"
             ],
             [
              0.7777777777777778,
              "#fb9f3a"
             ],
             [
              0.8888888888888888,
              "#fdca26"
             ],
             [
              1,
              "#f0f921"
             ]
            ],
            "type": "heatmap"
           }
          ],
          "heatmapgl": [
           {
            "colorbar": {
             "outlinewidth": 0,
             "ticks": ""
            },
            "colorscale": [
             [
              0,
              "#0d0887"
             ],
             [
              0.1111111111111111,
              "#46039f"
             ],
             [
              0.2222222222222222,
              "#7201a8"
             ],
             [
              0.3333333333333333,
              "#9c179e"
             ],
             [
              0.4444444444444444,
              "#bd3786"
             ],
             [
              0.5555555555555556,
              "#d8576b"
             ],
             [
              0.6666666666666666,
              "#ed7953"
             ],
             [
              0.7777777777777778,
              "#fb9f3a"
             ],
             [
              0.8888888888888888,
              "#fdca26"
             ],
             [
              1,
              "#f0f921"
             ]
            ],
            "type": "heatmapgl"
           }
          ],
          "histogram": [
           {
            "marker": {
             "colorbar": {
              "outlinewidth": 0,
              "ticks": ""
             }
            },
            "type": "histogram"
           }
          ],
          "histogram2d": [
           {
            "colorbar": {
             "outlinewidth": 0,
             "ticks": ""
            },
            "colorscale": [
             [
              0,
              "#0d0887"
             ],
             [
              0.1111111111111111,
              "#46039f"
             ],
             [
              0.2222222222222222,
              "#7201a8"
             ],
             [
              0.3333333333333333,
              "#9c179e"
             ],
             [
              0.4444444444444444,
              "#bd3786"
             ],
             [
              0.5555555555555556,
              "#d8576b"
             ],
             [
              0.6666666666666666,
              "#ed7953"
             ],
             [
              0.7777777777777778,
              "#fb9f3a"
             ],
             [
              0.8888888888888888,
              "#fdca26"
             ],
             [
              1,
              "#f0f921"
             ]
            ],
            "type": "histogram2d"
           }
          ],
          "histogram2dcontour": [
           {
            "colorbar": {
             "outlinewidth": 0,
             "ticks": ""
            },
            "colorscale": [
             [
              0,
              "#0d0887"
             ],
             [
              0.1111111111111111,
              "#46039f"
             ],
             [
              0.2222222222222222,
              "#7201a8"
             ],
             [
              0.3333333333333333,
              "#9c179e"
             ],
             [
              0.4444444444444444,
              "#bd3786"
             ],
             [
              0.5555555555555556,
              "#d8576b"
             ],
             [
              0.6666666666666666,
              "#ed7953"
             ],
             [
              0.7777777777777778,
              "#fb9f3a"
             ],
             [
              0.8888888888888888,
              "#fdca26"
             ],
             [
              1,
              "#f0f921"
             ]
            ],
            "type": "histogram2dcontour"
           }
          ],
          "mesh3d": [
           {
            "colorbar": {
             "outlinewidth": 0,
             "ticks": ""
            },
            "type": "mesh3d"
           }
          ],
          "parcoords": [
           {
            "line": {
             "colorbar": {
              "outlinewidth": 0,
              "ticks": ""
             }
            },
            "type": "parcoords"
           }
          ],
          "pie": [
           {
            "automargin": true,
            "type": "pie"
           }
          ],
          "scatter": [
           {
            "marker": {
             "colorbar": {
              "outlinewidth": 0,
              "ticks": ""
             }
            },
            "type": "scatter"
           }
          ],
          "scatter3d": [
           {
            "line": {
             "colorbar": {
              "outlinewidth": 0,
              "ticks": ""
             }
            },
            "marker": {
             "colorbar": {
              "outlinewidth": 0,
              "ticks": ""
             }
            },
            "type": "scatter3d"
           }
          ],
          "scattercarpet": [
           {
            "marker": {
             "colorbar": {
              "outlinewidth": 0,
              "ticks": ""
             }
            },
            "type": "scattercarpet"
           }
          ],
          "scattergeo": [
           {
            "marker": {
             "colorbar": {
              "outlinewidth": 0,
              "ticks": ""
             }
            },
            "type": "scattergeo"
           }
          ],
          "scattergl": [
           {
            "marker": {
             "colorbar": {
              "outlinewidth": 0,
              "ticks": ""
             }
            },
            "type": "scattergl"
           }
          ],
          "scattermapbox": [
           {
            "marker": {
             "colorbar": {
              "outlinewidth": 0,
              "ticks": ""
             }
            },
            "type": "scattermapbox"
           }
          ],
          "scatterpolar": [
           {
            "marker": {
             "colorbar": {
              "outlinewidth": 0,
              "ticks": ""
             }
            },
            "type": "scatterpolar"
           }
          ],
          "scatterpolargl": [
           {
            "marker": {
             "colorbar": {
              "outlinewidth": 0,
              "ticks": ""
             }
            },
            "type": "scatterpolargl"
           }
          ],
          "scatterternary": [
           {
            "marker": {
             "colorbar": {
              "outlinewidth": 0,
              "ticks": ""
             }
            },
            "type": "scatterternary"
           }
          ],
          "surface": [
           {
            "colorbar": {
             "outlinewidth": 0,
             "ticks": ""
            },
            "colorscale": [
             [
              0,
              "#0d0887"
             ],
             [
              0.1111111111111111,
              "#46039f"
             ],
             [
              0.2222222222222222,
              "#7201a8"
             ],
             [
              0.3333333333333333,
              "#9c179e"
             ],
             [
              0.4444444444444444,
              "#bd3786"
             ],
             [
              0.5555555555555556,
              "#d8576b"
             ],
             [
              0.6666666666666666,
              "#ed7953"
             ],
             [
              0.7777777777777778,
              "#fb9f3a"
             ],
             [
              0.8888888888888888,
              "#fdca26"
             ],
             [
              1,
              "#f0f921"
             ]
            ],
            "type": "surface"
           }
          ],
          "table": [
           {
            "cells": {
             "fill": {
              "color": "#EBF0F8"
             },
             "line": {
              "color": "white"
             }
            },
            "header": {
             "fill": {
              "color": "#C8D4E3"
             },
             "line": {
              "color": "white"
             }
            },
            "type": "table"
           }
          ]
         },
         "layout": {
          "annotationdefaults": {
           "arrowcolor": "#2a3f5f",
           "arrowhead": 0,
           "arrowwidth": 1
          },
          "coloraxis": {
           "colorbar": {
            "outlinewidth": 0,
            "ticks": ""
           }
          },
          "colorscale": {
           "diverging": [
            [
             0,
             "#8e0152"
            ],
            [
             0.1,
             "#c51b7d"
            ],
            [
             0.2,
             "#de77ae"
            ],
            [
             0.3,
             "#f1b6da"
            ],
            [
             0.4,
             "#fde0ef"
            ],
            [
             0.5,
             "#f7f7f7"
            ],
            [
             0.6,
             "#e6f5d0"
            ],
            [
             0.7,
             "#b8e186"
            ],
            [
             0.8,
             "#7fbc41"
            ],
            [
             0.9,
             "#4d9221"
            ],
            [
             1,
             "#276419"
            ]
           ],
           "sequential": [
            [
             0,
             "#0d0887"
            ],
            [
             0.1111111111111111,
             "#46039f"
            ],
            [
             0.2222222222222222,
             "#7201a8"
            ],
            [
             0.3333333333333333,
             "#9c179e"
            ],
            [
             0.4444444444444444,
             "#bd3786"
            ],
            [
             0.5555555555555556,
             "#d8576b"
            ],
            [
             0.6666666666666666,
             "#ed7953"
            ],
            [
             0.7777777777777778,
             "#fb9f3a"
            ],
            [
             0.8888888888888888,
             "#fdca26"
            ],
            [
             1,
             "#f0f921"
            ]
           ],
           "sequentialminus": [
            [
             0,
             "#0d0887"
            ],
            [
             0.1111111111111111,
             "#46039f"
            ],
            [
             0.2222222222222222,
             "#7201a8"
            ],
            [
             0.3333333333333333,
             "#9c179e"
            ],
            [
             0.4444444444444444,
             "#bd3786"
            ],
            [
             0.5555555555555556,
             "#d8576b"
            ],
            [
             0.6666666666666666,
             "#ed7953"
            ],
            [
             0.7777777777777778,
             "#fb9f3a"
            ],
            [
             0.8888888888888888,
             "#fdca26"
            ],
            [
             1,
             "#f0f921"
            ]
           ]
          },
          "colorway": [
           "#636efa",
           "#EF553B",
           "#00cc96",
           "#ab63fa",
           "#FFA15A",
           "#19d3f3",
           "#FF6692",
           "#B6E880",
           "#FF97FF",
           "#FECB52"
          ],
          "font": {
           "color": "#2a3f5f"
          },
          "geo": {
           "bgcolor": "white",
           "lakecolor": "white",
           "landcolor": "#E5ECF6",
           "showlakes": true,
           "showland": true,
           "subunitcolor": "white"
          },
          "hoverlabel": {
           "align": "left"
          },
          "hovermode": "closest",
          "mapbox": {
           "style": "light"
          },
          "paper_bgcolor": "white",
          "plot_bgcolor": "#E5ECF6",
          "polar": {
           "angularaxis": {
            "gridcolor": "white",
            "linecolor": "white",
            "ticks": ""
           },
           "bgcolor": "#E5ECF6",
           "radialaxis": {
            "gridcolor": "white",
            "linecolor": "white",
            "ticks": ""
           }
          },
          "scene": {
           "xaxis": {
            "backgroundcolor": "#E5ECF6",
            "gridcolor": "white",
            "gridwidth": 2,
            "linecolor": "white",
            "showbackground": true,
            "ticks": "",
            "zerolinecolor": "white"
           },
           "yaxis": {
            "backgroundcolor": "#E5ECF6",
            "gridcolor": "white",
            "gridwidth": 2,
            "linecolor": "white",
            "showbackground": true,
            "ticks": "",
            "zerolinecolor": "white"
           },
           "zaxis": {
            "backgroundcolor": "#E5ECF6",
            "gridcolor": "white",
            "gridwidth": 2,
            "linecolor": "white",
            "showbackground": true,
            "ticks": "",
            "zerolinecolor": "white"
           }
          },
          "shapedefaults": {
           "line": {
            "color": "#2a3f5f"
           }
          },
          "ternary": {
           "aaxis": {
            "gridcolor": "white",
            "linecolor": "white",
            "ticks": ""
           },
           "baxis": {
            "gridcolor": "white",
            "linecolor": "white",
            "ticks": ""
           },
           "bgcolor": "#E5ECF6",
           "caxis": {
            "gridcolor": "white",
            "linecolor": "white",
            "ticks": ""
           }
          },
          "title": {
           "x": 0.05
          },
          "xaxis": {
           "automargin": true,
           "gridcolor": "white",
           "linecolor": "white",
           "ticks": "",
           "title": {
            "standoff": 15
           },
           "zerolinecolor": "white",
           "zerolinewidth": 2
          },
          "yaxis": {
           "automargin": true,
           "gridcolor": "white",
           "linecolor": "white",
           "ticks": "",
           "title": {
            "standoff": 15
           },
           "zerolinecolor": "white",
           "zerolinewidth": 2
          }
         }
        }
       }
      }
     },
     "metadata": {}
    }
   ],
   "source": [
    "\n",
    "fig = go.Figure([go.Scatter(x=dfSteps.index, y=dfSteps['steps'],  mode='markers',)])\n",
    "fig.write_html(\"./steps.html\")\n",
    "fig.show()"
   ]
  },
  {
   "cell_type": "code",
   "execution_count": 4,
   "metadata": {},
   "outputs": [
    {
     "output_type": "execute_result",
     "data": {
      "text/plain": [
       "                           waterVolume  steps  walkingSpeed  \\\n",
       "creationDate                                                  \n",
       "2020-11-27 00:00:00+01:00          NaN    890      5.418000   \n",
       "2020-11-28 00:00:00+01:00          NaN   1874      4.299000   \n",
       "2020-11-29 00:00:00+01:00          NaN   1259      5.324000   \n",
       "2020-11-30 00:00:00+01:00          NaN   1503      4.654440   \n",
       "2020-12-01 00:00:00+01:00        850.0   3869      4.911000   \n",
       "...                                ...    ...           ...   \n",
       "2021-01-31 00:00:00+01:00          0.0   6121      3.509025   \n",
       "2021-02-01 00:00:00+01:00       1300.0   4703      4.987200   \n",
       "2021-02-02 00:00:00+01:00        700.0   2179           NaN   \n",
       "2021-02-03 00:00:00+01:00       1000.0   4059      3.994071   \n",
       "2021-02-04 00:00:00+01:00          NaN    807           NaN   \n",
       "\n",
       "                           activeEnergyBurned  stepLength  \n",
       "creationDate                                               \n",
       "2020-11-27 00:00:00+01:00                 NaN   80.000000  \n",
       "2020-11-28 00:00:00+01:00                 NaN   68.250000  \n",
       "2020-11-29 00:00:00+01:00                 NaN   78.111111  \n",
       "2020-11-30 00:00:00+01:00                 NaN   70.210000  \n",
       "2020-12-01 00:00:00+01:00                 NaN   75.583333  \n",
       "...                                       ...         ...  \n",
       "2021-01-31 00:00:00+01:00                 NaN   59.777083  \n",
       "2021-02-01 00:00:00+01:00                 NaN   71.266667  \n",
       "2021-02-02 00:00:00+01:00                 NaN         NaN  \n",
       "2021-02-03 00:00:00+01:00                 NaN   63.107143  \n",
       "2021-02-04 00:00:00+01:00                 NaN         NaN  \n",
       "\n",
       "[70 rows x 5 columns]"
      ],
      "text/html": "<div>\n<style scoped>\n    .dataframe tbody tr th:only-of-type {\n        vertical-align: middle;\n    }\n\n    .dataframe tbody tr th {\n        vertical-align: top;\n    }\n\n    .dataframe thead th {\n        text-align: right;\n    }\n</style>\n<table border=\"1\" class=\"dataframe\">\n  <thead>\n    <tr style=\"text-align: right;\">\n      <th></th>\n      <th>waterVolume</th>\n      <th>steps</th>\n      <th>walkingSpeed</th>\n      <th>activeEnergyBurned</th>\n      <th>stepLength</th>\n    </tr>\n    <tr>\n      <th>creationDate</th>\n      <th></th>\n      <th></th>\n      <th></th>\n      <th></th>\n      <th></th>\n    </tr>\n  </thead>\n  <tbody>\n    <tr>\n      <th>2020-11-27 00:00:00+01:00</th>\n      <td>NaN</td>\n      <td>890</td>\n      <td>5.418000</td>\n      <td>NaN</td>\n      <td>80.000000</td>\n    </tr>\n    <tr>\n      <th>2020-11-28 00:00:00+01:00</th>\n      <td>NaN</td>\n      <td>1874</td>\n      <td>4.299000</td>\n      <td>NaN</td>\n      <td>68.250000</td>\n    </tr>\n    <tr>\n      <th>2020-11-29 00:00:00+01:00</th>\n      <td>NaN</td>\n      <td>1259</td>\n      <td>5.324000</td>\n      <td>NaN</td>\n      <td>78.111111</td>\n    </tr>\n    <tr>\n      <th>2020-11-30 00:00:00+01:00</th>\n      <td>NaN</td>\n      <td>1503</td>\n      <td>4.654440</td>\n      <td>NaN</td>\n      <td>70.210000</td>\n    </tr>\n    <tr>\n      <th>2020-12-01 00:00:00+01:00</th>\n      <td>850.0</td>\n      <td>3869</td>\n      <td>4.911000</td>\n      <td>NaN</td>\n      <td>75.583333</td>\n    </tr>\n    <tr>\n      <th>...</th>\n      <td>...</td>\n      <td>...</td>\n      <td>...</td>\n      <td>...</td>\n      <td>...</td>\n    </tr>\n    <tr>\n      <th>2021-01-31 00:00:00+01:00</th>\n      <td>0.0</td>\n      <td>6121</td>\n      <td>3.509025</td>\n      <td>NaN</td>\n      <td>59.777083</td>\n    </tr>\n    <tr>\n      <th>2021-02-01 00:00:00+01:00</th>\n      <td>1300.0</td>\n      <td>4703</td>\n      <td>4.987200</td>\n      <td>NaN</td>\n      <td>71.266667</td>\n    </tr>\n    <tr>\n      <th>2021-02-02 00:00:00+01:00</th>\n      <td>700.0</td>\n      <td>2179</td>\n      <td>NaN</td>\n      <td>NaN</td>\n      <td>NaN</td>\n    </tr>\n    <tr>\n      <th>2021-02-03 00:00:00+01:00</th>\n      <td>1000.0</td>\n      <td>4059</td>\n      <td>3.994071</td>\n      <td>NaN</td>\n      <td>63.107143</td>\n    </tr>\n    <tr>\n      <th>2021-02-04 00:00:00+01:00</th>\n      <td>NaN</td>\n      <td>807</td>\n      <td>NaN</td>\n      <td>NaN</td>\n      <td>NaN</td>\n    </tr>\n  </tbody>\n</table>\n<p>70 rows × 5 columns</p>\n</div>"
     },
     "metadata": {},
     "execution_count": 4
    }
   ],
   "source": [
    "dfMerged = pd.concat([dfWater, dfSteps, dfWalkingSpeed, dfActiveEnergyBurned, dfStepLength], axis=1)\n",
    "\n",
    "dfMerged"
   ]
  },
  {
   "cell_type": "code",
   "execution_count": 5,
   "metadata": {},
   "outputs": [
    {
     "output_type": "display_data",
     "data": {
      "text/plain": "<Figure size 432x288 with 2 Axes>",
      "image/svg+xml": "<?xml version=\"1.0\" encoding=\"utf-8\" standalone=\"no\"?>\r\n<!DOCTYPE svg PUBLIC \"-//W3C//DTD SVG 1.1//EN\"\r\n  \"http://www.w3.org/Graphics/SVG/1.1/DTD/svg11.dtd\">\r\n<!-- Created with matplotlib (https://matplotlib.org/) -->\r\n<svg height=\"344.368906pt\" version=\"1.1\" viewBox=\"0 0 456.227 344.368906\" width=\"456.227pt\" xmlns=\"http://www.w3.org/2000/svg\" xmlns:xlink=\"http://www.w3.org/1999/xlink\">\r\n <defs>\r\n  <style type=\"text/css\">\r\n*{stroke-linecap:butt;stroke-linejoin:round;}\r\n  </style>\r\n </defs>\r\n <g id=\"figure_1\">\r\n  <g id=\"patch_1\">\r\n   <path d=\"M 0 344.368906 \r\nL 456.227 344.368906 \r\nL 456.227 0 \r\nL 0 0 \r\nz\r\n\" style=\"fill:none;\"/>\r\n  </g>\r\n  <g id=\"axes_1\">\r\n   <g id=\"patch_2\">\r\n    <path d=\"M 115.929688 228.439219 \r\nL 383.769688 228.439219 \r\nL 383.769688 10.999219 \r\nL 115.929688 10.999219 \r\nz\r\n\" style=\"fill:#ffffff;\"/>\r\n   </g>\r\n   <g id=\"QuadMesh_1\">\r\n    <path clip-path=\"url(#p2f04f415ff)\" d=\"M 115.929688 10.999219 \r\nL 169.497688 10.999219 \r\nL 169.497688 54.487219 \r\nL 115.929688 54.487219 \r\nL 115.929688 10.999219 \r\n\" style=\"fill:#faebdd;\"/>\r\n    <path clip-path=\"url(#p2f04f415ff)\" d=\"M 169.497688 10.999219 \r\nL 223.065688 10.999219 \r\nL 223.065688 54.487219 \r\nL 169.497688 54.487219 \r\nL 169.497688 10.999219 \r\n\" style=\"fill:#ad1759;\"/>\r\n    <path clip-path=\"url(#p2f04f415ff)\" d=\"M 223.065688 10.999219 \r\nL 276.633688 10.999219 \r\nL 276.633688 54.487219 \r\nL 223.065688 54.487219 \r\nL 223.065688 10.999219 \r\n\" style=\"fill:#d92847;\"/>\r\n    <path clip-path=\"url(#p2f04f415ff)\" d=\"M 276.633688 10.999219 \r\nL 330.201688 10.999219 \r\nL 330.201688 54.487219 \r\nL 276.633688 54.487219 \r\nL 276.633688 10.999219 \r\n\" style=\"fill:#faebdd;\"/>\r\n    <path clip-path=\"url(#p2f04f415ff)\" d=\"M 330.201688 10.999219 \r\nL 383.769688 10.999219 \r\nL 383.769688 54.487219 \r\nL 330.201688 54.487219 \r\nL 330.201688 10.999219 \r\n\" style=\"fill:#de2e44;\"/>\r\n    <path clip-path=\"url(#p2f04f415ff)\" d=\"M 115.929688 54.487219 \r\nL 169.497688 54.487219 \r\nL 169.497688 97.975219 \r\nL 115.929688 97.975219 \r\nL 115.929688 54.487219 \r\n\" style=\"fill:#ad1759;\"/>\r\n    <path clip-path=\"url(#p2f04f415ff)\" d=\"M 169.497688 54.487219 \r\nL 223.065688 54.487219 \r\nL 223.065688 97.975219 \r\nL 169.497688 97.975219 \r\nL 169.497688 54.487219 \r\n\" style=\"fill:#faebdd;\"/>\r\n    <path clip-path=\"url(#p2f04f415ff)\" d=\"M 223.065688 54.487219 \r\nL 276.633688 54.487219 \r\nL 276.633688 97.975219 \r\nL 223.065688 97.975219 \r\nL 223.065688 54.487219 \r\n\" style=\"fill:#c41753;\"/>\r\n    <path clip-path=\"url(#p2f04f415ff)\" d=\"M 276.633688 54.487219 \r\nL 330.201688 54.487219 \r\nL 330.201688 97.975219 \r\nL 276.633688 97.975219 \r\nL 276.633688 54.487219 \r\n\" style=\"fill:#faebdd;\"/>\r\n    <path clip-path=\"url(#p2f04f415ff)\" d=\"M 330.201688 54.487219 \r\nL 383.769688 54.487219 \r\nL 383.769688 97.975219 \r\nL 330.201688 97.975219 \r\nL 330.201688 54.487219 \r\n\" style=\"fill:#bc1656;\"/>\r\n    <path clip-path=\"url(#p2f04f415ff)\" d=\"M 115.929688 97.975219 \r\nL 169.497688 97.975219 \r\nL 169.497688 141.463219 \r\nL 115.929688 141.463219 \r\nL 115.929688 97.975219 \r\n\" style=\"fill:#d92847;\"/>\r\n    <path clip-path=\"url(#p2f04f415ff)\" d=\"M 169.497688 97.975219 \r\nL 223.065688 97.975219 \r\nL 223.065688 141.463219 \r\nL 169.497688 141.463219 \r\nL 169.497688 97.975219 \r\n\" style=\"fill:#c41753;\"/>\r\n    <path clip-path=\"url(#p2f04f415ff)\" d=\"M 223.065688 97.975219 \r\nL 276.633688 97.975219 \r\nL 276.633688 141.463219 \r\nL 223.065688 141.463219 \r\nL 223.065688 97.975219 \r\n\" style=\"fill:#faebdd;\"/>\r\n    <path clip-path=\"url(#p2f04f415ff)\" d=\"M 276.633688 97.975219 \r\nL 330.201688 97.975219 \r\nL 330.201688 141.463219 \r\nL 276.633688 141.463219 \r\nL 276.633688 97.975219 \r\n\" style=\"fill:#03051a;\"/>\r\n    <path clip-path=\"url(#p2f04f415ff)\" d=\"M 330.201688 97.975219 \r\nL 383.769688 97.975219 \r\nL 383.769688 141.463219 \r\nL 330.201688 141.463219 \r\nL 330.201688 97.975219 \r\n\" style=\"fill:#f9dfcb;\"/>\r\n    <path clip-path=\"url(#p2f04f415ff)\" d=\"M 115.929688 141.463219 \r\nL 169.497688 141.463219 \r\nL 169.497688 184.951219 \r\nL 115.929688 184.951219 \r\nL 115.929688 141.463219 \r\n\" style=\"fill:#faebdd;\"/>\r\n    <path clip-path=\"url(#p2f04f415ff)\" d=\"M 169.497688 141.463219 \r\nL 223.065688 141.463219 \r\nL 223.065688 184.951219 \r\nL 169.497688 184.951219 \r\nL 169.497688 141.463219 \r\n\" style=\"fill:#faebdd;\"/>\r\n    <path clip-path=\"url(#p2f04f415ff)\" d=\"M 223.065688 141.463219 \r\nL 276.633688 141.463219 \r\nL 276.633688 184.951219 \r\nL 223.065688 184.951219 \r\nL 223.065688 141.463219 \r\n\" style=\"fill:#03051a;\"/>\r\n    <path clip-path=\"url(#p2f04f415ff)\" d=\"M 276.633688 141.463219 \r\nL 330.201688 141.463219 \r\nL 330.201688 184.951219 \r\nL 276.633688 184.951219 \r\nL 276.633688 141.463219 \r\n\" style=\"fill:#faebdd;\"/>\r\n    <path clip-path=\"url(#p2f04f415ff)\" d=\"M 330.201688 141.463219 \r\nL 383.769688 141.463219 \r\nL 383.769688 184.951219 \r\nL 330.201688 184.951219 \r\nL 330.201688 141.463219 \r\n\" style=\"fill:#03051a;\"/>\r\n    <path clip-path=\"url(#p2f04f415ff)\" d=\"M 115.929688 184.951219 \r\nL 169.497688 184.951219 \r\nL 169.497688 228.439219 \r\nL 115.929688 228.439219 \r\nL 115.929688 184.951219 \r\n\" style=\"fill:#de2e44;\"/>\r\n    <path clip-path=\"url(#p2f04f415ff)\" d=\"M 169.497688 184.951219 \r\nL 223.065688 184.951219 \r\nL 223.065688 228.439219 \r\nL 169.497688 228.439219 \r\nL 169.497688 184.951219 \r\n\" style=\"fill:#bc1656;\"/>\r\n    <path clip-path=\"url(#p2f04f415ff)\" d=\"M 223.065688 184.951219 \r\nL 276.633688 184.951219 \r\nL 276.633688 228.439219 \r\nL 223.065688 228.439219 \r\nL 223.065688 184.951219 \r\n\" style=\"fill:#f9dfcb;\"/>\r\n    <path clip-path=\"url(#p2f04f415ff)\" d=\"M 276.633688 184.951219 \r\nL 330.201688 184.951219 \r\nL 330.201688 228.439219 \r\nL 276.633688 228.439219 \r\nL 276.633688 184.951219 \r\n\" style=\"fill:#03051a;\"/>\r\n    <path clip-path=\"url(#p2f04f415ff)\" d=\"M 330.201688 184.951219 \r\nL 383.769688 184.951219 \r\nL 383.769688 228.439219 \r\nL 330.201688 228.439219 \r\nL 330.201688 184.951219 \r\n\" style=\"fill:#faebdd;\"/>\r\n   </g>\r\n   <g id=\"matplotlib.axis_1\">\r\n    <g id=\"xtick_1\">\r\n     <g id=\"line2d_1\">\r\n      <defs>\r\n       <path d=\"M 0 0 \r\nL 0 3.5 \r\n\" id=\"ma4ee6ae0a8\" style=\"stroke:#000000;stroke-width:0.8;\"/>\r\n      </defs>\r\n      <g>\r\n       <use style=\"stroke:#000000;stroke-width:0.8;\" x=\"142.713687\" xlink:href=\"#ma4ee6ae0a8\" y=\"228.439219\"/>\r\n      </g>\r\n     </g>\r\n     <g id=\"text_1\">\r\n      <!-- waterVolume -->\r\n      <defs>\r\n       <path d=\"M 4.203125 54.6875 \r\nL 13.1875 54.6875 \r\nL 24.421875 12.015625 \r\nL 35.59375 54.6875 \r\nL 46.1875 54.6875 \r\nL 57.421875 12.015625 \r\nL 68.609375 54.6875 \r\nL 77.59375 54.6875 \r\nL 63.28125 0 \r\nL 52.6875 0 \r\nL 40.921875 44.828125 \r\nL 29.109375 0 \r\nL 18.5 0 \r\nz\r\n\" id=\"DejaVuSans-119\"/>\r\n       <path d=\"M 34.28125 27.484375 \r\nQ 23.390625 27.484375 19.1875 25 \r\nQ 14.984375 22.515625 14.984375 16.5 \r\nQ 14.984375 11.71875 18.140625 8.90625 \r\nQ 21.296875 6.109375 26.703125 6.109375 \r\nQ 34.1875 6.109375 38.703125 11.40625 \r\nQ 43.21875 16.703125 43.21875 25.484375 \r\nL 43.21875 27.484375 \r\nz\r\nM 52.203125 31.203125 \r\nL 52.203125 0 \r\nL 43.21875 0 \r\nL 43.21875 8.296875 \r\nQ 40.140625 3.328125 35.546875 0.953125 \r\nQ 30.953125 -1.421875 24.3125 -1.421875 \r\nQ 15.921875 -1.421875 10.953125 3.296875 \r\nQ 6 8.015625 6 15.921875 \r\nQ 6 25.140625 12.171875 29.828125 \r\nQ 18.359375 34.515625 30.609375 34.515625 \r\nL 43.21875 34.515625 \r\nL 43.21875 35.40625 \r\nQ 43.21875 41.609375 39.140625 45 \r\nQ 35.0625 48.390625 27.6875 48.390625 \r\nQ 23 48.390625 18.546875 47.265625 \r\nQ 14.109375 46.140625 10.015625 43.890625 \r\nL 10.015625 52.203125 \r\nQ 14.9375 54.109375 19.578125 55.046875 \r\nQ 24.21875 56 28.609375 56 \r\nQ 40.484375 56 46.34375 49.84375 \r\nQ 52.203125 43.703125 52.203125 31.203125 \r\nz\r\n\" id=\"DejaVuSans-97\"/>\r\n       <path d=\"M 18.3125 70.21875 \r\nL 18.3125 54.6875 \r\nL 36.8125 54.6875 \r\nL 36.8125 47.703125 \r\nL 18.3125 47.703125 \r\nL 18.3125 18.015625 \r\nQ 18.3125 11.328125 20.140625 9.421875 \r\nQ 21.96875 7.515625 27.59375 7.515625 \r\nL 36.8125 7.515625 \r\nL 36.8125 0 \r\nL 27.59375 0 \r\nQ 17.1875 0 13.234375 3.875 \r\nQ 9.28125 7.765625 9.28125 18.015625 \r\nL 9.28125 47.703125 \r\nL 2.6875 47.703125 \r\nL 2.6875 54.6875 \r\nL 9.28125 54.6875 \r\nL 9.28125 70.21875 \r\nz\r\n\" id=\"DejaVuSans-116\"/>\r\n       <path d=\"M 56.203125 29.59375 \r\nL 56.203125 25.203125 \r\nL 14.890625 25.203125 \r\nQ 15.484375 15.921875 20.484375 11.0625 \r\nQ 25.484375 6.203125 34.421875 6.203125 \r\nQ 39.59375 6.203125 44.453125 7.46875 \r\nQ 49.3125 8.734375 54.109375 11.28125 \r\nL 54.109375 2.78125 \r\nQ 49.265625 0.734375 44.1875 -0.34375 \r\nQ 39.109375 -1.421875 33.890625 -1.421875 \r\nQ 20.796875 -1.421875 13.15625 6.1875 \r\nQ 5.515625 13.8125 5.515625 26.8125 \r\nQ 5.515625 40.234375 12.765625 48.109375 \r\nQ 20.015625 56 32.328125 56 \r\nQ 43.359375 56 49.78125 48.890625 \r\nQ 56.203125 41.796875 56.203125 29.59375 \r\nz\r\nM 47.21875 32.234375 \r\nQ 47.125 39.59375 43.09375 43.984375 \r\nQ 39.0625 48.390625 32.421875 48.390625 \r\nQ 24.90625 48.390625 20.390625 44.140625 \r\nQ 15.875 39.890625 15.1875 32.171875 \r\nz\r\n\" id=\"DejaVuSans-101\"/>\r\n       <path d=\"M 41.109375 46.296875 \r\nQ 39.59375 47.171875 37.8125 47.578125 \r\nQ 36.03125 48 33.890625 48 \r\nQ 26.265625 48 22.1875 43.046875 \r\nQ 18.109375 38.09375 18.109375 28.8125 \r\nL 18.109375 0 \r\nL 9.078125 0 \r\nL 9.078125 54.6875 \r\nL 18.109375 54.6875 \r\nL 18.109375 46.1875 \r\nQ 20.953125 51.171875 25.484375 53.578125 \r\nQ 30.03125 56 36.53125 56 \r\nQ 37.453125 56 38.578125 55.875 \r\nQ 39.703125 55.765625 41.0625 55.515625 \r\nz\r\n\" id=\"DejaVuSans-114\"/>\r\n       <path d=\"M 28.609375 0 \r\nL 0.78125 72.90625 \r\nL 11.078125 72.90625 \r\nL 34.1875 11.53125 \r\nL 57.328125 72.90625 \r\nL 67.578125 72.90625 \r\nL 39.796875 0 \r\nz\r\n\" id=\"DejaVuSans-86\"/>\r\n       <path d=\"M 30.609375 48.390625 \r\nQ 23.390625 48.390625 19.1875 42.75 \r\nQ 14.984375 37.109375 14.984375 27.296875 \r\nQ 14.984375 17.484375 19.15625 11.84375 \r\nQ 23.34375 6.203125 30.609375 6.203125 \r\nQ 37.796875 6.203125 41.984375 11.859375 \r\nQ 46.1875 17.53125 46.1875 27.296875 \r\nQ 46.1875 37.015625 41.984375 42.703125 \r\nQ 37.796875 48.390625 30.609375 48.390625 \r\nz\r\nM 30.609375 56 \r\nQ 42.328125 56 49.015625 48.375 \r\nQ 55.71875 40.765625 55.71875 27.296875 \r\nQ 55.71875 13.875 49.015625 6.21875 \r\nQ 42.328125 -1.421875 30.609375 -1.421875 \r\nQ 18.84375 -1.421875 12.171875 6.21875 \r\nQ 5.515625 13.875 5.515625 27.296875 \r\nQ 5.515625 40.765625 12.171875 48.375 \r\nQ 18.84375 56 30.609375 56 \r\nz\r\n\" id=\"DejaVuSans-111\"/>\r\n       <path d=\"M 9.421875 75.984375 \r\nL 18.40625 75.984375 \r\nL 18.40625 0 \r\nL 9.421875 0 \r\nz\r\n\" id=\"DejaVuSans-108\"/>\r\n       <path d=\"M 8.5 21.578125 \r\nL 8.5 54.6875 \r\nL 17.484375 54.6875 \r\nL 17.484375 21.921875 \r\nQ 17.484375 14.15625 20.5 10.265625 \r\nQ 23.53125 6.390625 29.59375 6.390625 \r\nQ 36.859375 6.390625 41.078125 11.03125 \r\nQ 45.3125 15.671875 45.3125 23.6875 \r\nL 45.3125 54.6875 \r\nL 54.296875 54.6875 \r\nL 54.296875 0 \r\nL 45.3125 0 \r\nL 45.3125 8.40625 \r\nQ 42.046875 3.421875 37.71875 1 \r\nQ 33.40625 -1.421875 27.6875 -1.421875 \r\nQ 18.265625 -1.421875 13.375 4.4375 \r\nQ 8.5 10.296875 8.5 21.578125 \r\nz\r\nM 31.109375 56 \r\nz\r\n\" id=\"DejaVuSans-117\"/>\r\n       <path d=\"M 52 44.1875 \r\nQ 55.375 50.25 60.0625 53.125 \r\nQ 64.75 56 71.09375 56 \r\nQ 79.640625 56 84.28125 50.015625 \r\nQ 88.921875 44.046875 88.921875 33.015625 \r\nL 88.921875 0 \r\nL 79.890625 0 \r\nL 79.890625 32.71875 \r\nQ 79.890625 40.578125 77.09375 44.375 \r\nQ 74.3125 48.1875 68.609375 48.1875 \r\nQ 61.625 48.1875 57.5625 43.546875 \r\nQ 53.515625 38.921875 53.515625 30.90625 \r\nL 53.515625 0 \r\nL 44.484375 0 \r\nL 44.484375 32.71875 \r\nQ 44.484375 40.625 41.703125 44.40625 \r\nQ 38.921875 48.1875 33.109375 48.1875 \r\nQ 26.21875 48.1875 22.15625 43.53125 \r\nQ 18.109375 38.875 18.109375 30.90625 \r\nL 18.109375 0 \r\nL 9.078125 0 \r\nL 9.078125 54.6875 \r\nL 18.109375 54.6875 \r\nL 18.109375 46.1875 \r\nQ 21.1875 51.21875 25.484375 53.609375 \r\nQ 29.78125 56 35.6875 56 \r\nQ 41.65625 56 45.828125 52.96875 \r\nQ 50 49.953125 52 44.1875 \r\nz\r\n\" id=\"DejaVuSans-109\"/>\r\n      </defs>\r\n      <g transform=\"translate(145.473062 301.887656)rotate(-90)scale(0.1 -0.1)\">\r\n       <use xlink:href=\"#DejaVuSans-119\"/>\r\n       <use x=\"81.787109\" xlink:href=\"#DejaVuSans-97\"/>\r\n       <use x=\"143.066406\" xlink:href=\"#DejaVuSans-116\"/>\r\n       <use x=\"182.275391\" xlink:href=\"#DejaVuSans-101\"/>\r\n       <use x=\"243.798828\" xlink:href=\"#DejaVuSans-114\"/>\r\n       <use x=\"284.912109\" xlink:href=\"#DejaVuSans-86\"/>\r\n       <use x=\"353.210938\" xlink:href=\"#DejaVuSans-111\"/>\r\n       <use x=\"414.392578\" xlink:href=\"#DejaVuSans-108\"/>\r\n       <use x=\"442.175781\" xlink:href=\"#DejaVuSans-117\"/>\r\n       <use x=\"505.554688\" xlink:href=\"#DejaVuSans-109\"/>\r\n       <use x=\"602.966797\" xlink:href=\"#DejaVuSans-101\"/>\r\n      </g>\r\n     </g>\r\n    </g>\r\n    <g id=\"xtick_2\">\r\n     <g id=\"line2d_2\">\r\n      <g>\r\n       <use style=\"stroke:#000000;stroke-width:0.8;\" x=\"196.281688\" xlink:href=\"#ma4ee6ae0a8\" y=\"228.439219\"/>\r\n      </g>\r\n     </g>\r\n     <g id=\"text_2\">\r\n      <!-- steps -->\r\n      <defs>\r\n       <path d=\"M 44.28125 53.078125 \r\nL 44.28125 44.578125 \r\nQ 40.484375 46.53125 36.375 47.5 \r\nQ 32.28125 48.484375 27.875 48.484375 \r\nQ 21.1875 48.484375 17.84375 46.4375 \r\nQ 14.5 44.390625 14.5 40.28125 \r\nQ 14.5 37.15625 16.890625 35.375 \r\nQ 19.28125 33.59375 26.515625 31.984375 \r\nL 29.59375 31.296875 \r\nQ 39.15625 29.25 43.1875 25.515625 \r\nQ 47.21875 21.78125 47.21875 15.09375 \r\nQ 47.21875 7.46875 41.1875 3.015625 \r\nQ 35.15625 -1.421875 24.609375 -1.421875 \r\nQ 20.21875 -1.421875 15.453125 -0.5625 \r\nQ 10.6875 0.296875 5.421875 2 \r\nL 5.421875 11.28125 \r\nQ 10.40625 8.6875 15.234375 7.390625 \r\nQ 20.0625 6.109375 24.8125 6.109375 \r\nQ 31.15625 6.109375 34.5625 8.28125 \r\nQ 37.984375 10.453125 37.984375 14.40625 \r\nQ 37.984375 18.0625 35.515625 20.015625 \r\nQ 33.0625 21.96875 24.703125 23.78125 \r\nL 21.578125 24.515625 \r\nQ 13.234375 26.265625 9.515625 29.90625 \r\nQ 5.8125 33.546875 5.8125 39.890625 \r\nQ 5.8125 47.609375 11.28125 51.796875 \r\nQ 16.75 56 26.8125 56 \r\nQ 31.78125 56 36.171875 55.265625 \r\nQ 40.578125 54.546875 44.28125 53.078125 \r\nz\r\n\" id=\"DejaVuSans-115\"/>\r\n       <path d=\"M 18.109375 8.203125 \r\nL 18.109375 -20.796875 \r\nL 9.078125 -20.796875 \r\nL 9.078125 54.6875 \r\nL 18.109375 54.6875 \r\nL 18.109375 46.390625 \r\nQ 20.953125 51.265625 25.265625 53.625 \r\nQ 29.59375 56 35.59375 56 \r\nQ 45.5625 56 51.78125 48.09375 \r\nQ 58.015625 40.1875 58.015625 27.296875 \r\nQ 58.015625 14.40625 51.78125 6.484375 \r\nQ 45.5625 -1.421875 35.59375 -1.421875 \r\nQ 29.59375 -1.421875 25.265625 0.953125 \r\nQ 20.953125 3.328125 18.109375 8.203125 \r\nz\r\nM 48.6875 27.296875 \r\nQ 48.6875 37.203125 44.609375 42.84375 \r\nQ 40.53125 48.484375 33.40625 48.484375 \r\nQ 26.265625 48.484375 22.1875 42.84375 \r\nQ 18.109375 37.203125 18.109375 27.296875 \r\nQ 18.109375 17.390625 22.1875 11.75 \r\nQ 26.265625 6.109375 33.40625 6.109375 \r\nQ 40.53125 6.109375 44.609375 11.75 \r\nQ 48.6875 17.390625 48.6875 27.296875 \r\nz\r\n\" id=\"DejaVuSans-112\"/>\r\n      </defs>\r\n      <g transform=\"translate(199.041063 262.279844)rotate(-90)scale(0.1 -0.1)\">\r\n       <use xlink:href=\"#DejaVuSans-115\"/>\r\n       <use x=\"52.099609\" xlink:href=\"#DejaVuSans-116\"/>\r\n       <use x=\"91.308594\" xlink:href=\"#DejaVuSans-101\"/>\r\n       <use x=\"152.832031\" xlink:href=\"#DejaVuSans-112\"/>\r\n       <use x=\"216.308594\" xlink:href=\"#DejaVuSans-115\"/>\r\n      </g>\r\n     </g>\r\n    </g>\r\n    <g id=\"xtick_3\">\r\n     <g id=\"line2d_3\">\r\n      <g>\r\n       <use style=\"stroke:#000000;stroke-width:0.8;\" x=\"249.849688\" xlink:href=\"#ma4ee6ae0a8\" y=\"228.439219\"/>\r\n      </g>\r\n     </g>\r\n     <g id=\"text_3\">\r\n      <!-- walkingSpeed -->\r\n      <defs>\r\n       <path d=\"M 9.078125 75.984375 \r\nL 18.109375 75.984375 \r\nL 18.109375 31.109375 \r\nL 44.921875 54.6875 \r\nL 56.390625 54.6875 \r\nL 27.390625 29.109375 \r\nL 57.625 0 \r\nL 45.90625 0 \r\nL 18.109375 26.703125 \r\nL 18.109375 0 \r\nL 9.078125 0 \r\nz\r\n\" id=\"DejaVuSans-107\"/>\r\n       <path d=\"M 9.421875 54.6875 \r\nL 18.40625 54.6875 \r\nL 18.40625 0 \r\nL 9.421875 0 \r\nz\r\nM 9.421875 75.984375 \r\nL 18.40625 75.984375 \r\nL 18.40625 64.59375 \r\nL 9.421875 64.59375 \r\nz\r\n\" id=\"DejaVuSans-105\"/>\r\n       <path d=\"M 54.890625 33.015625 \r\nL 54.890625 0 \r\nL 45.90625 0 \r\nL 45.90625 32.71875 \r\nQ 45.90625 40.484375 42.875 44.328125 \r\nQ 39.84375 48.1875 33.796875 48.1875 \r\nQ 26.515625 48.1875 22.3125 43.546875 \r\nQ 18.109375 38.921875 18.109375 30.90625 \r\nL 18.109375 0 \r\nL 9.078125 0 \r\nL 9.078125 54.6875 \r\nL 18.109375 54.6875 \r\nL 18.109375 46.1875 \r\nQ 21.34375 51.125 25.703125 53.5625 \r\nQ 30.078125 56 35.796875 56 \r\nQ 45.21875 56 50.046875 50.171875 \r\nQ 54.890625 44.34375 54.890625 33.015625 \r\nz\r\n\" id=\"DejaVuSans-110\"/>\r\n       <path d=\"M 45.40625 27.984375 \r\nQ 45.40625 37.75 41.375 43.109375 \r\nQ 37.359375 48.484375 30.078125 48.484375 \r\nQ 22.859375 48.484375 18.828125 43.109375 \r\nQ 14.796875 37.75 14.796875 27.984375 \r\nQ 14.796875 18.265625 18.828125 12.890625 \r\nQ 22.859375 7.515625 30.078125 7.515625 \r\nQ 37.359375 7.515625 41.375 12.890625 \r\nQ 45.40625 18.265625 45.40625 27.984375 \r\nz\r\nM 54.390625 6.78125 \r\nQ 54.390625 -7.171875 48.1875 -13.984375 \r\nQ 42 -20.796875 29.203125 -20.796875 \r\nQ 24.46875 -20.796875 20.265625 -20.09375 \r\nQ 16.0625 -19.390625 12.109375 -17.921875 \r\nL 12.109375 -9.1875 \r\nQ 16.0625 -11.328125 19.921875 -12.34375 \r\nQ 23.78125 -13.375 27.78125 -13.375 \r\nQ 36.625 -13.375 41.015625 -8.765625 \r\nQ 45.40625 -4.15625 45.40625 5.171875 \r\nL 45.40625 9.625 \r\nQ 42.625 4.78125 38.28125 2.390625 \r\nQ 33.9375 0 27.875 0 \r\nQ 17.828125 0 11.671875 7.65625 \r\nQ 5.515625 15.328125 5.515625 27.984375 \r\nQ 5.515625 40.671875 11.671875 48.328125 \r\nQ 17.828125 56 27.875 56 \r\nQ 33.9375 56 38.28125 53.609375 \r\nQ 42.625 51.21875 45.40625 46.390625 \r\nL 45.40625 54.6875 \r\nL 54.390625 54.6875 \r\nz\r\n\" id=\"DejaVuSans-103\"/>\r\n       <path d=\"M 53.515625 70.515625 \r\nL 53.515625 60.890625 \r\nQ 47.90625 63.578125 42.921875 64.890625 \r\nQ 37.9375 66.21875 33.296875 66.21875 \r\nQ 25.25 66.21875 20.875 63.09375 \r\nQ 16.5 59.96875 16.5 54.203125 \r\nQ 16.5 49.359375 19.40625 46.890625 \r\nQ 22.3125 44.4375 30.421875 42.921875 \r\nL 36.375 41.703125 \r\nQ 47.40625 39.59375 52.65625 34.296875 \r\nQ 57.90625 29 57.90625 20.125 \r\nQ 57.90625 9.515625 50.796875 4.046875 \r\nQ 43.703125 -1.421875 29.984375 -1.421875 \r\nQ 24.8125 -1.421875 18.96875 -0.25 \r\nQ 13.140625 0.921875 6.890625 3.21875 \r\nL 6.890625 13.375 \r\nQ 12.890625 10.015625 18.65625 8.296875 \r\nQ 24.421875 6.59375 29.984375 6.59375 \r\nQ 38.421875 6.59375 43.015625 9.90625 \r\nQ 47.609375 13.234375 47.609375 19.390625 \r\nQ 47.609375 24.75 44.3125 27.78125 \r\nQ 41.015625 30.8125 33.5 32.328125 \r\nL 27.484375 33.5 \r\nQ 16.453125 35.6875 11.515625 40.375 \r\nQ 6.59375 45.0625 6.59375 53.421875 \r\nQ 6.59375 63.09375 13.40625 68.65625 \r\nQ 20.21875 74.21875 32.171875 74.21875 \r\nQ 37.3125 74.21875 42.625 73.28125 \r\nQ 47.953125 72.359375 53.515625 70.515625 \r\nz\r\n\" id=\"DejaVuSans-83\"/>\r\n       <path d=\"M 45.40625 46.390625 \r\nL 45.40625 75.984375 \r\nL 54.390625 75.984375 \r\nL 54.390625 0 \r\nL 45.40625 0 \r\nL 45.40625 8.203125 \r\nQ 42.578125 3.328125 38.25 0.953125 \r\nQ 33.9375 -1.421875 27.875 -1.421875 \r\nQ 17.96875 -1.421875 11.734375 6.484375 \r\nQ 5.515625 14.40625 5.515625 27.296875 \r\nQ 5.515625 40.1875 11.734375 48.09375 \r\nQ 17.96875 56 27.875 56 \r\nQ 33.9375 56 38.25 53.625 \r\nQ 42.578125 51.265625 45.40625 46.390625 \r\nz\r\nM 14.796875 27.296875 \r\nQ 14.796875 17.390625 18.875 11.75 \r\nQ 22.953125 6.109375 30.078125 6.109375 \r\nQ 37.203125 6.109375 41.296875 11.75 \r\nQ 45.40625 17.390625 45.40625 27.296875 \r\nQ 45.40625 37.203125 41.296875 42.84375 \r\nQ 37.203125 48.484375 30.078125 48.484375 \r\nQ 22.953125 48.484375 18.875 42.84375 \r\nQ 14.796875 37.203125 14.796875 27.296875 \r\nz\r\n\" id=\"DejaVuSans-100\"/>\r\n      </defs>\r\n      <g transform=\"translate(252.609063 305.129844)rotate(-90)scale(0.1 -0.1)\">\r\n       <use xlink:href=\"#DejaVuSans-119\"/>\r\n       <use x=\"81.787109\" xlink:href=\"#DejaVuSans-97\"/>\r\n       <use x=\"143.066406\" xlink:href=\"#DejaVuSans-108\"/>\r\n       <use x=\"170.849609\" xlink:href=\"#DejaVuSans-107\"/>\r\n       <use x=\"228.759766\" xlink:href=\"#DejaVuSans-105\"/>\r\n       <use x=\"256.542969\" xlink:href=\"#DejaVuSans-110\"/>\r\n       <use x=\"319.921875\" xlink:href=\"#DejaVuSans-103\"/>\r\n       <use x=\"383.398438\" xlink:href=\"#DejaVuSans-83\"/>\r\n       <use x=\"446.875\" xlink:href=\"#DejaVuSans-112\"/>\r\n       <use x=\"510.351562\" xlink:href=\"#DejaVuSans-101\"/>\r\n       <use x=\"571.875\" xlink:href=\"#DejaVuSans-101\"/>\r\n       <use x=\"633.398438\" xlink:href=\"#DejaVuSans-100\"/>\r\n      </g>\r\n     </g>\r\n    </g>\r\n    <g id=\"xtick_4\">\r\n     <g id=\"line2d_4\">\r\n      <g>\r\n       <use style=\"stroke:#000000;stroke-width:0.8;\" x=\"303.417688\" xlink:href=\"#ma4ee6ae0a8\" y=\"228.439219\"/>\r\n      </g>\r\n     </g>\r\n     <g id=\"text_4\">\r\n      <!-- activeEnergyBurned -->\r\n      <defs>\r\n       <path d=\"M 48.78125 52.59375 \r\nL 48.78125 44.1875 \r\nQ 44.96875 46.296875 41.140625 47.34375 \r\nQ 37.3125 48.390625 33.40625 48.390625 \r\nQ 24.65625 48.390625 19.8125 42.84375 \r\nQ 14.984375 37.3125 14.984375 27.296875 \r\nQ 14.984375 17.28125 19.8125 11.734375 \r\nQ 24.65625 6.203125 33.40625 6.203125 \r\nQ 37.3125 6.203125 41.140625 7.25 \r\nQ 44.96875 8.296875 48.78125 10.40625 \r\nL 48.78125 2.09375 \r\nQ 45.015625 0.34375 40.984375 -0.53125 \r\nQ 36.96875 -1.421875 32.421875 -1.421875 \r\nQ 20.0625 -1.421875 12.78125 6.34375 \r\nQ 5.515625 14.109375 5.515625 27.296875 \r\nQ 5.515625 40.671875 12.859375 48.328125 \r\nQ 20.21875 56 33.015625 56 \r\nQ 37.15625 56 41.109375 55.140625 \r\nQ 45.0625 54.296875 48.78125 52.59375 \r\nz\r\n\" id=\"DejaVuSans-99\"/>\r\n       <path d=\"M 2.984375 54.6875 \r\nL 12.5 54.6875 \r\nL 29.59375 8.796875 \r\nL 46.6875 54.6875 \r\nL 56.203125 54.6875 \r\nL 35.6875 0 \r\nL 23.484375 0 \r\nz\r\n\" id=\"DejaVuSans-118\"/>\r\n       <path d=\"M 9.8125 72.90625 \r\nL 55.90625 72.90625 \r\nL 55.90625 64.59375 \r\nL 19.671875 64.59375 \r\nL 19.671875 43.015625 \r\nL 54.390625 43.015625 \r\nL 54.390625 34.71875 \r\nL 19.671875 34.71875 \r\nL 19.671875 8.296875 \r\nL 56.78125 8.296875 \r\nL 56.78125 0 \r\nL 9.8125 0 \r\nz\r\n\" id=\"DejaVuSans-69\"/>\r\n       <path d=\"M 32.171875 -5.078125 \r\nQ 28.375 -14.84375 24.75 -17.8125 \r\nQ 21.140625 -20.796875 15.09375 -20.796875 \r\nL 7.90625 -20.796875 \r\nL 7.90625 -13.28125 \r\nL 13.1875 -13.28125 \r\nQ 16.890625 -13.28125 18.9375 -11.515625 \r\nQ 21 -9.765625 23.484375 -3.21875 \r\nL 25.09375 0.875 \r\nL 2.984375 54.6875 \r\nL 12.5 54.6875 \r\nL 29.59375 11.921875 \r\nL 46.6875 54.6875 \r\nL 56.203125 54.6875 \r\nz\r\n\" id=\"DejaVuSans-121\"/>\r\n       <path d=\"M 19.671875 34.8125 \r\nL 19.671875 8.109375 \r\nL 35.5 8.109375 \r\nQ 43.453125 8.109375 47.28125 11.40625 \r\nQ 51.125 14.703125 51.125 21.484375 \r\nQ 51.125 28.328125 47.28125 31.5625 \r\nQ 43.453125 34.8125 35.5 34.8125 \r\nz\r\nM 19.671875 64.796875 \r\nL 19.671875 42.828125 \r\nL 34.28125 42.828125 \r\nQ 41.5 42.828125 45.03125 45.53125 \r\nQ 48.578125 48.25 48.578125 53.8125 \r\nQ 48.578125 59.328125 45.03125 62.0625 \r\nQ 41.5 64.796875 34.28125 64.796875 \r\nz\r\nM 9.8125 72.90625 \r\nL 35.015625 72.90625 \r\nQ 46.296875 72.90625 52.390625 68.21875 \r\nQ 58.5 63.53125 58.5 54.890625 \r\nQ 58.5 48.1875 55.375 44.234375 \r\nQ 52.25 40.28125 46.1875 39.3125 \r\nQ 53.46875 37.75 57.5 32.78125 \r\nQ 61.53125 27.828125 61.53125 20.40625 \r\nQ 61.53125 10.640625 54.890625 5.3125 \r\nQ 48.25 0 35.984375 0 \r\nL 9.8125 0 \r\nz\r\n\" id=\"DejaVuSans-66\"/>\r\n      </defs>\r\n      <g transform=\"translate(306.177063 337.168906)rotate(-90)scale(0.1 -0.1)\">\r\n       <use xlink:href=\"#DejaVuSans-97\"/>\r\n       <use x=\"61.279297\" xlink:href=\"#DejaVuSans-99\"/>\r\n       <use x=\"116.259766\" xlink:href=\"#DejaVuSans-116\"/>\r\n       <use x=\"155.46875\" xlink:href=\"#DejaVuSans-105\"/>\r\n       <use x=\"183.251953\" xlink:href=\"#DejaVuSans-118\"/>\r\n       <use x=\"242.431641\" xlink:href=\"#DejaVuSans-101\"/>\r\n       <use x=\"303.955078\" xlink:href=\"#DejaVuSans-69\"/>\r\n       <use x=\"367.138672\" xlink:href=\"#DejaVuSans-110\"/>\r\n       <use x=\"430.517578\" xlink:href=\"#DejaVuSans-101\"/>\r\n       <use x=\"492.041016\" xlink:href=\"#DejaVuSans-114\"/>\r\n       <use x=\"533.138672\" xlink:href=\"#DejaVuSans-103\"/>\r\n       <use x=\"596.615234\" xlink:href=\"#DejaVuSans-121\"/>\r\n       <use x=\"655.794922\" xlink:href=\"#DejaVuSans-66\"/>\r\n       <use x=\"724.398438\" xlink:href=\"#DejaVuSans-117\"/>\r\n       <use x=\"787.777344\" xlink:href=\"#DejaVuSans-114\"/>\r\n       <use x=\"828.875\" xlink:href=\"#DejaVuSans-110\"/>\r\n       <use x=\"892.253906\" xlink:href=\"#DejaVuSans-101\"/>\r\n       <use x=\"953.777344\" xlink:href=\"#DejaVuSans-100\"/>\r\n      </g>\r\n     </g>\r\n    </g>\r\n    <g id=\"xtick_5\">\r\n     <g id=\"line2d_5\">\r\n      <g>\r\n       <use style=\"stroke:#000000;stroke-width:0.8;\" x=\"356.985688\" xlink:href=\"#ma4ee6ae0a8\" y=\"228.439219\"/>\r\n      </g>\r\n     </g>\r\n     <g id=\"text_5\">\r\n      <!-- stepLength -->\r\n      <defs>\r\n       <path d=\"M 9.8125 72.90625 \r\nL 19.671875 72.90625 \r\nL 19.671875 8.296875 \r\nL 55.171875 8.296875 \r\nL 55.171875 0 \r\nL 9.8125 0 \r\nz\r\n\" id=\"DejaVuSans-76\"/>\r\n       <path d=\"M 54.890625 33.015625 \r\nL 54.890625 0 \r\nL 45.90625 0 \r\nL 45.90625 32.71875 \r\nQ 45.90625 40.484375 42.875 44.328125 \r\nQ 39.84375 48.1875 33.796875 48.1875 \r\nQ 26.515625 48.1875 22.3125 43.546875 \r\nQ 18.109375 38.921875 18.109375 30.90625 \r\nL 18.109375 0 \r\nL 9.078125 0 \r\nL 9.078125 75.984375 \r\nL 18.109375 75.984375 \r\nL 18.109375 46.1875 \r\nQ 21.34375 51.125 25.703125 53.5625 \r\nQ 30.078125 56 35.796875 56 \r\nQ 45.21875 56 50.046875 50.171875 \r\nQ 54.890625 44.34375 54.890625 33.015625 \r\nz\r\n\" id=\"DejaVuSans-104\"/>\r\n      </defs>\r\n      <g transform=\"translate(359.745063 291.737656)rotate(-90)scale(0.1 -0.1)\">\r\n       <use xlink:href=\"#DejaVuSans-115\"/>\r\n       <use x=\"52.099609\" xlink:href=\"#DejaVuSans-116\"/>\r\n       <use x=\"91.308594\" xlink:href=\"#DejaVuSans-101\"/>\r\n       <use x=\"152.832031\" xlink:href=\"#DejaVuSans-112\"/>\r\n       <use x=\"216.308594\" xlink:href=\"#DejaVuSans-76\"/>\r\n       <use x=\"272.005859\" xlink:href=\"#DejaVuSans-101\"/>\r\n       <use x=\"333.529297\" xlink:href=\"#DejaVuSans-110\"/>\r\n       <use x=\"396.908203\" xlink:href=\"#DejaVuSans-103\"/>\r\n       <use x=\"460.384766\" xlink:href=\"#DejaVuSans-116\"/>\r\n       <use x=\"499.59375\" xlink:href=\"#DejaVuSans-104\"/>\r\n      </g>\r\n     </g>\r\n    </g>\r\n   </g>\r\n   <g id=\"matplotlib.axis_2\">\r\n    <g id=\"ytick_1\">\r\n     <g id=\"line2d_6\">\r\n      <defs>\r\n       <path d=\"M 0 0 \r\nL -3.5 0 \r\n\" id=\"m7ba2e09bd6\" style=\"stroke:#000000;stroke-width:0.8;\"/>\r\n      </defs>\r\n      <g>\r\n       <use style=\"stroke:#000000;stroke-width:0.8;\" x=\"115.929688\" xlink:href=\"#m7ba2e09bd6\" y=\"32.743219\"/>\r\n      </g>\r\n     </g>\r\n     <g id=\"text_6\">\r\n      <!-- waterVolume -->\r\n      <g transform=\"translate(42.48125 36.542438)scale(0.1 -0.1)\">\r\n       <use xlink:href=\"#DejaVuSans-119\"/>\r\n       <use x=\"81.787109\" xlink:href=\"#DejaVuSans-97\"/>\r\n       <use x=\"143.066406\" xlink:href=\"#DejaVuSans-116\"/>\r\n       <use x=\"182.275391\" xlink:href=\"#DejaVuSans-101\"/>\r\n       <use x=\"243.798828\" xlink:href=\"#DejaVuSans-114\"/>\r\n       <use x=\"284.912109\" xlink:href=\"#DejaVuSans-86\"/>\r\n       <use x=\"353.210938\" xlink:href=\"#DejaVuSans-111\"/>\r\n       <use x=\"414.392578\" xlink:href=\"#DejaVuSans-108\"/>\r\n       <use x=\"442.175781\" xlink:href=\"#DejaVuSans-117\"/>\r\n       <use x=\"505.554688\" xlink:href=\"#DejaVuSans-109\"/>\r\n       <use x=\"602.966797\" xlink:href=\"#DejaVuSans-101\"/>\r\n      </g>\r\n     </g>\r\n    </g>\r\n    <g id=\"ytick_2\">\r\n     <g id=\"line2d_7\">\r\n      <g>\r\n       <use style=\"stroke:#000000;stroke-width:0.8;\" x=\"115.929688\" xlink:href=\"#m7ba2e09bd6\" y=\"76.231219\"/>\r\n      </g>\r\n     </g>\r\n     <g id=\"text_7\">\r\n      <!-- steps -->\r\n      <g transform=\"translate(82.089062 80.030438)scale(0.1 -0.1)\">\r\n       <use xlink:href=\"#DejaVuSans-115\"/>\r\n       <use x=\"52.099609\" xlink:href=\"#DejaVuSans-116\"/>\r\n       <use x=\"91.308594\" xlink:href=\"#DejaVuSans-101\"/>\r\n       <use x=\"152.832031\" xlink:href=\"#DejaVuSans-112\"/>\r\n       <use x=\"216.308594\" xlink:href=\"#DejaVuSans-115\"/>\r\n      </g>\r\n     </g>\r\n    </g>\r\n    <g id=\"ytick_3\">\r\n     <g id=\"line2d_8\">\r\n      <g>\r\n       <use style=\"stroke:#000000;stroke-width:0.8;\" x=\"115.929688\" xlink:href=\"#m7ba2e09bd6\" y=\"119.719219\"/>\r\n      </g>\r\n     </g>\r\n     <g id=\"text_8\">\r\n      <!-- walkingSpeed -->\r\n      <g transform=\"translate(39.239063 123.518438)scale(0.1 -0.1)\">\r\n       <use xlink:href=\"#DejaVuSans-119\"/>\r\n       <use x=\"81.787109\" xlink:href=\"#DejaVuSans-97\"/>\r\n       <use x=\"143.066406\" xlink:href=\"#DejaVuSans-108\"/>\r\n       <use x=\"170.849609\" xlink:href=\"#DejaVuSans-107\"/>\r\n       <use x=\"228.759766\" xlink:href=\"#DejaVuSans-105\"/>\r\n       <use x=\"256.542969\" xlink:href=\"#DejaVuSans-110\"/>\r\n       <use x=\"319.921875\" xlink:href=\"#DejaVuSans-103\"/>\r\n       <use x=\"383.398438\" xlink:href=\"#DejaVuSans-83\"/>\r\n       <use x=\"446.875\" xlink:href=\"#DejaVuSans-112\"/>\r\n       <use x=\"510.351562\" xlink:href=\"#DejaVuSans-101\"/>\r\n       <use x=\"571.875\" xlink:href=\"#DejaVuSans-101\"/>\r\n       <use x=\"633.398438\" xlink:href=\"#DejaVuSans-100\"/>\r\n      </g>\r\n     </g>\r\n    </g>\r\n    <g id=\"ytick_4\">\r\n     <g id=\"line2d_9\">\r\n      <g>\r\n       <use style=\"stroke:#000000;stroke-width:0.8;\" x=\"115.929688\" xlink:href=\"#m7ba2e09bd6\" y=\"163.207219\"/>\r\n      </g>\r\n     </g>\r\n     <g id=\"text_9\">\r\n      <!-- activeEnergyBurned -->\r\n      <g transform=\"translate(7.2 167.006438)scale(0.1 -0.1)\">\r\n       <use xlink:href=\"#DejaVuSans-97\"/>\r\n       <use x=\"61.279297\" xlink:href=\"#DejaVuSans-99\"/>\r\n       <use x=\"116.259766\" xlink:href=\"#DejaVuSans-116\"/>\r\n       <use x=\"155.46875\" xlink:href=\"#DejaVuSans-105\"/>\r\n       <use x=\"183.251953\" xlink:href=\"#DejaVuSans-118\"/>\r\n       <use x=\"242.431641\" xlink:href=\"#DejaVuSans-101\"/>\r\n       <use x=\"303.955078\" xlink:href=\"#DejaVuSans-69\"/>\r\n       <use x=\"367.138672\" xlink:href=\"#DejaVuSans-110\"/>\r\n       <use x=\"430.517578\" xlink:href=\"#DejaVuSans-101\"/>\r\n       <use x=\"492.041016\" xlink:href=\"#DejaVuSans-114\"/>\r\n       <use x=\"533.138672\" xlink:href=\"#DejaVuSans-103\"/>\r\n       <use x=\"596.615234\" xlink:href=\"#DejaVuSans-121\"/>\r\n       <use x=\"655.794922\" xlink:href=\"#DejaVuSans-66\"/>\r\n       <use x=\"724.398438\" xlink:href=\"#DejaVuSans-117\"/>\r\n       <use x=\"787.777344\" xlink:href=\"#DejaVuSans-114\"/>\r\n       <use x=\"828.875\" xlink:href=\"#DejaVuSans-110\"/>\r\n       <use x=\"892.253906\" xlink:href=\"#DejaVuSans-101\"/>\r\n       <use x=\"953.777344\" xlink:href=\"#DejaVuSans-100\"/>\r\n      </g>\r\n     </g>\r\n    </g>\r\n    <g id=\"ytick_5\">\r\n     <g id=\"line2d_10\">\r\n      <g>\r\n       <use style=\"stroke:#000000;stroke-width:0.8;\" x=\"115.929688\" xlink:href=\"#m7ba2e09bd6\" y=\"206.695219\"/>\r\n      </g>\r\n     </g>\r\n     <g id=\"text_10\">\r\n      <!-- stepLength -->\r\n      <g transform=\"translate(52.63125 210.494438)scale(0.1 -0.1)\">\r\n       <use xlink:href=\"#DejaVuSans-115\"/>\r\n       <use x=\"52.099609\" xlink:href=\"#DejaVuSans-116\"/>\r\n       <use x=\"91.308594\" xlink:href=\"#DejaVuSans-101\"/>\r\n       <use x=\"152.832031\" xlink:href=\"#DejaVuSans-112\"/>\r\n       <use x=\"216.308594\" xlink:href=\"#DejaVuSans-76\"/>\r\n       <use x=\"272.005859\" xlink:href=\"#DejaVuSans-101\"/>\r\n       <use x=\"333.529297\" xlink:href=\"#DejaVuSans-110\"/>\r\n       <use x=\"396.908203\" xlink:href=\"#DejaVuSans-103\"/>\r\n       <use x=\"460.384766\" xlink:href=\"#DejaVuSans-116\"/>\r\n       <use x=\"499.59375\" xlink:href=\"#DejaVuSans-104\"/>\r\n      </g>\r\n     </g>\r\n    </g>\r\n   </g>\r\n  </g>\r\n  <g id=\"axes_2\">\r\n   <g id=\"patch_3\">\r\n    <path clip-path=\"url(#p8137e199ec)\" d=\"M 400.509688 228.439219 \r\nL 400.509688 227.589844 \r\nL 400.509688 11.848594 \r\nL 400.509688 10.999219 \r\nL 411.381688 10.999219 \r\nL 411.381688 11.848594 \r\nL 411.381688 227.589844 \r\nL 411.381688 228.439219 \r\nz\r\n\" style=\"fill:#ffffff;stroke:#ffffff;stroke-linejoin:miter;stroke-width:0.01;\"/>\r\n   </g>\r\n   <image height=\"217\" id=\"imagef95f888ba3\" transform=\"scale(1 -1)translate(0 -217)\" width=\"10\" x=\"401\" xlink:href=\"data:image/png;base64,\r\niVBORw0KGgoAAAANSUhEUgAAAAoAAADZCAYAAAAZmKE8AAAABHNCSVQICAgIfAhkiAAAAV9JREFUaIHtmNGNA0EIQ2EgTaT/Oi/pIHpID01Oyn5bNjYMs7vZj+crwNOZSXATYNiMlYcBj27m+GYONaNL4874OfIWcteQccE1ZVwY3P9g5uLg6tIdeMzYs9Frf0lR1wy2s3EpsPV4uGu9hVgat9AfXD+e0uMZjJnNOGjh99foS5fOeNCr8IprvnsoI59w6tqX7nvSvIX6UNx0rUv3i1FubIp70th1hl3jwIwtXfEHGWGQCzUmPK9dFHgoEEsPGBFu4hpugA0zXBrhok/hecQ1Qmkcz4Lrhq759OAaF+KBjAfemh1+r31gQyD8NhtIDxjhGylnhPdrB5X2a1yQhncX/6uAaxwAaY3UDJemfwt910ldR7FvzYXAL+aY8At7pYWUEZ+ZZit3JXB6uHxp7JrvHtwZO57BKdSlfTOYsfDg/lx/AGbemx5shgfur2a7hVkPmXFjcO0c0z+uPzMfnjeSISoj2+eMBgAAAABJRU5ErkJggg==\" y=\"-11\"/>\r\n   <g id=\"matplotlib.axis_3\"/>\r\n   <g id=\"matplotlib.axis_4\">\r\n    <g id=\"ytick_6\">\r\n     <g id=\"line2d_11\">\r\n      <defs>\r\n       <path d=\"M 0 0 \r\nL 3.5 0 \r\n\" id=\"mc5241a8608\" style=\"stroke:#000000;stroke-width:0.8;\"/>\r\n      </defs>\r\n      <g>\r\n       <use style=\"stroke:#000000;stroke-width:0.8;\" x=\"411.381688\" xlink:href=\"#mc5241a8608\" y=\"228.439219\"/>\r\n      </g>\r\n     </g>\r\n     <g id=\"text_11\">\r\n      <!-- −1.00 -->\r\n      <defs>\r\n       <path d=\"M 10.59375 35.5 \r\nL 73.1875 35.5 \r\nL 73.1875 27.203125 \r\nL 10.59375 27.203125 \r\nz\r\n\" id=\"DejaVuSans-8722\"/>\r\n       <path d=\"M 12.40625 8.296875 \r\nL 28.515625 8.296875 \r\nL 28.515625 63.921875 \r\nL 10.984375 60.40625 \r\nL 10.984375 69.390625 \r\nL 28.421875 72.90625 \r\nL 38.28125 72.90625 \r\nL 38.28125 8.296875 \r\nL 54.390625 8.296875 \r\nL 54.390625 0 \r\nL 12.40625 0 \r\nz\r\n\" id=\"DejaVuSans-49\"/>\r\n       <path d=\"M 10.6875 12.40625 \r\nL 21 12.40625 \r\nL 21 0 \r\nL 10.6875 0 \r\nz\r\n\" id=\"DejaVuSans-46\"/>\r\n       <path d=\"M 31.78125 66.40625 \r\nQ 24.171875 66.40625 20.328125 58.90625 \r\nQ 16.5 51.421875 16.5 36.375 \r\nQ 16.5 21.390625 20.328125 13.890625 \r\nQ 24.171875 6.390625 31.78125 6.390625 \r\nQ 39.453125 6.390625 43.28125 13.890625 \r\nQ 47.125 21.390625 47.125 36.375 \r\nQ 47.125 51.421875 43.28125 58.90625 \r\nQ 39.453125 66.40625 31.78125 66.40625 \r\nz\r\nM 31.78125 74.21875 \r\nQ 44.046875 74.21875 50.515625 64.515625 \r\nQ 56.984375 54.828125 56.984375 36.375 \r\nQ 56.984375 17.96875 50.515625 8.265625 \r\nQ 44.046875 -1.421875 31.78125 -1.421875 \r\nQ 19.53125 -1.421875 13.0625 8.265625 \r\nQ 6.59375 17.96875 6.59375 36.375 \r\nQ 6.59375 54.828125 13.0625 64.515625 \r\nQ 19.53125 74.21875 31.78125 74.21875 \r\nz\r\n\" id=\"DejaVuSans-48\"/>\r\n      </defs>\r\n      <g transform=\"translate(418.381688 232.238437)scale(0.1 -0.1)\">\r\n       <use xlink:href=\"#DejaVuSans-8722\"/>\r\n       <use x=\"83.789062\" xlink:href=\"#DejaVuSans-49\"/>\r\n       <use x=\"147.412109\" xlink:href=\"#DejaVuSans-46\"/>\r\n       <use x=\"179.199219\" xlink:href=\"#DejaVuSans-48\"/>\r\n       <use x=\"242.822266\" xlink:href=\"#DejaVuSans-48\"/>\r\n      </g>\r\n     </g>\r\n    </g>\r\n    <g id=\"ytick_7\">\r\n     <g id=\"line2d_12\">\r\n      <g>\r\n       <use style=\"stroke:#000000;stroke-width:0.8;\" x=\"411.381688\" xlink:href=\"#mc5241a8608\" y=\"201.259219\"/>\r\n      </g>\r\n     </g>\r\n     <g id=\"text_12\">\r\n      <!-- −0.75 -->\r\n      <defs>\r\n       <path d=\"M 8.203125 72.90625 \r\nL 55.078125 72.90625 \r\nL 55.078125 68.703125 \r\nL 28.609375 0 \r\nL 18.3125 0 \r\nL 43.21875 64.59375 \r\nL 8.203125 64.59375 \r\nz\r\n\" id=\"DejaVuSans-55\"/>\r\n       <path d=\"M 10.796875 72.90625 \r\nL 49.515625 72.90625 \r\nL 49.515625 64.59375 \r\nL 19.828125 64.59375 \r\nL 19.828125 46.734375 \r\nQ 21.96875 47.46875 24.109375 47.828125 \r\nQ 26.265625 48.1875 28.421875 48.1875 \r\nQ 40.625 48.1875 47.75 41.5 \r\nQ 54.890625 34.8125 54.890625 23.390625 \r\nQ 54.890625 11.625 47.5625 5.09375 \r\nQ 40.234375 -1.421875 26.90625 -1.421875 \r\nQ 22.3125 -1.421875 17.546875 -0.640625 \r\nQ 12.796875 0.140625 7.71875 1.703125 \r\nL 7.71875 11.625 \r\nQ 12.109375 9.234375 16.796875 8.0625 \r\nQ 21.484375 6.890625 26.703125 6.890625 \r\nQ 35.15625 6.890625 40.078125 11.328125 \r\nQ 45.015625 15.765625 45.015625 23.390625 \r\nQ 45.015625 31 40.078125 35.4375 \r\nQ 35.15625 39.890625 26.703125 39.890625 \r\nQ 22.75 39.890625 18.8125 39.015625 \r\nQ 14.890625 38.140625 10.796875 36.28125 \r\nz\r\n\" id=\"DejaVuSans-53\"/>\r\n      </defs>\r\n      <g transform=\"translate(418.381688 205.058437)scale(0.1 -0.1)\">\r\n       <use xlink:href=\"#DejaVuSans-8722\"/>\r\n       <use x=\"83.789062\" xlink:href=\"#DejaVuSans-48\"/>\r\n       <use x=\"147.412109\" xlink:href=\"#DejaVuSans-46\"/>\r\n       <use x=\"179.199219\" xlink:href=\"#DejaVuSans-55\"/>\r\n       <use x=\"242.822266\" xlink:href=\"#DejaVuSans-53\"/>\r\n      </g>\r\n     </g>\r\n    </g>\r\n    <g id=\"ytick_8\">\r\n     <g id=\"line2d_13\">\r\n      <g>\r\n       <use style=\"stroke:#000000;stroke-width:0.8;\" x=\"411.381688\" xlink:href=\"#mc5241a8608\" y=\"174.079219\"/>\r\n      </g>\r\n     </g>\r\n     <g id=\"text_13\">\r\n      <!-- −0.50 -->\r\n      <g transform=\"translate(418.381688 177.878437)scale(0.1 -0.1)\">\r\n       <use xlink:href=\"#DejaVuSans-8722\"/>\r\n       <use x=\"83.789062\" xlink:href=\"#DejaVuSans-48\"/>\r\n       <use x=\"147.412109\" xlink:href=\"#DejaVuSans-46\"/>\r\n       <use x=\"179.199219\" xlink:href=\"#DejaVuSans-53\"/>\r\n       <use x=\"242.822266\" xlink:href=\"#DejaVuSans-48\"/>\r\n      </g>\r\n     </g>\r\n    </g>\r\n    <g id=\"ytick_9\">\r\n     <g id=\"line2d_14\">\r\n      <g>\r\n       <use style=\"stroke:#000000;stroke-width:0.8;\" x=\"411.381688\" xlink:href=\"#mc5241a8608\" y=\"146.899219\"/>\r\n      </g>\r\n     </g>\r\n     <g id=\"text_14\">\r\n      <!-- −0.25 -->\r\n      <defs>\r\n       <path d=\"M 19.1875 8.296875 \r\nL 53.609375 8.296875 \r\nL 53.609375 0 \r\nL 7.328125 0 \r\nL 7.328125 8.296875 \r\nQ 12.9375 14.109375 22.625 23.890625 \r\nQ 32.328125 33.6875 34.8125 36.53125 \r\nQ 39.546875 41.84375 41.421875 45.53125 \r\nQ 43.3125 49.21875 43.3125 52.78125 \r\nQ 43.3125 58.59375 39.234375 62.25 \r\nQ 35.15625 65.921875 28.609375 65.921875 \r\nQ 23.96875 65.921875 18.8125 64.3125 \r\nQ 13.671875 62.703125 7.8125 59.421875 \r\nL 7.8125 69.390625 \r\nQ 13.765625 71.78125 18.9375 73 \r\nQ 24.125 74.21875 28.421875 74.21875 \r\nQ 39.75 74.21875 46.484375 68.546875 \r\nQ 53.21875 62.890625 53.21875 53.421875 \r\nQ 53.21875 48.921875 51.53125 44.890625 \r\nQ 49.859375 40.875 45.40625 35.40625 \r\nQ 44.1875 33.984375 37.640625 27.21875 \r\nQ 31.109375 20.453125 19.1875 8.296875 \r\nz\r\n\" id=\"DejaVuSans-50\"/>\r\n      </defs>\r\n      <g transform=\"translate(418.381688 150.698437)scale(0.1 -0.1)\">\r\n       <use xlink:href=\"#DejaVuSans-8722\"/>\r\n       <use x=\"83.789062\" xlink:href=\"#DejaVuSans-48\"/>\r\n       <use x=\"147.412109\" xlink:href=\"#DejaVuSans-46\"/>\r\n       <use x=\"179.199219\" xlink:href=\"#DejaVuSans-50\"/>\r\n       <use x=\"242.822266\" xlink:href=\"#DejaVuSans-53\"/>\r\n      </g>\r\n     </g>\r\n    </g>\r\n    <g id=\"ytick_10\">\r\n     <g id=\"line2d_15\">\r\n      <g>\r\n       <use style=\"stroke:#000000;stroke-width:0.8;\" x=\"411.381688\" xlink:href=\"#mc5241a8608\" y=\"119.719219\"/>\r\n      </g>\r\n     </g>\r\n     <g id=\"text_15\">\r\n      <!-- 0.00 -->\r\n      <g transform=\"translate(418.381688 123.518437)scale(0.1 -0.1)\">\r\n       <use xlink:href=\"#DejaVuSans-48\"/>\r\n       <use x=\"63.623047\" xlink:href=\"#DejaVuSans-46\"/>\r\n       <use x=\"95.410156\" xlink:href=\"#DejaVuSans-48\"/>\r\n       <use x=\"159.033203\" xlink:href=\"#DejaVuSans-48\"/>\r\n      </g>\r\n     </g>\r\n    </g>\r\n    <g id=\"ytick_11\">\r\n     <g id=\"line2d_16\">\r\n      <g>\r\n       <use style=\"stroke:#000000;stroke-width:0.8;\" x=\"411.381688\" xlink:href=\"#mc5241a8608\" y=\"92.539219\"/>\r\n      </g>\r\n     </g>\r\n     <g id=\"text_16\">\r\n      <!-- 0.25 -->\r\n      <g transform=\"translate(418.381688 96.338437)scale(0.1 -0.1)\">\r\n       <use xlink:href=\"#DejaVuSans-48\"/>\r\n       <use x=\"63.623047\" xlink:href=\"#DejaVuSans-46\"/>\r\n       <use x=\"95.410156\" xlink:href=\"#DejaVuSans-50\"/>\r\n       <use x=\"159.033203\" xlink:href=\"#DejaVuSans-53\"/>\r\n      </g>\r\n     </g>\r\n    </g>\r\n    <g id=\"ytick_12\">\r\n     <g id=\"line2d_17\">\r\n      <g>\r\n       <use style=\"stroke:#000000;stroke-width:0.8;\" x=\"411.381688\" xlink:href=\"#mc5241a8608\" y=\"65.359219\"/>\r\n      </g>\r\n     </g>\r\n     <g id=\"text_17\">\r\n      <!-- 0.50 -->\r\n      <g transform=\"translate(418.381688 69.158438)scale(0.1 -0.1)\">\r\n       <use xlink:href=\"#DejaVuSans-48\"/>\r\n       <use x=\"63.623047\" xlink:href=\"#DejaVuSans-46\"/>\r\n       <use x=\"95.410156\" xlink:href=\"#DejaVuSans-53\"/>\r\n       <use x=\"159.033203\" xlink:href=\"#DejaVuSans-48\"/>\r\n      </g>\r\n     </g>\r\n    </g>\r\n    <g id=\"ytick_13\">\r\n     <g id=\"line2d_18\">\r\n      <g>\r\n       <use style=\"stroke:#000000;stroke-width:0.8;\" x=\"411.381688\" xlink:href=\"#mc5241a8608\" y=\"38.179219\"/>\r\n      </g>\r\n     </g>\r\n     <g id=\"text_18\">\r\n      <!-- 0.75 -->\r\n      <g transform=\"translate(418.381688 41.978438)scale(0.1 -0.1)\">\r\n       <use xlink:href=\"#DejaVuSans-48\"/>\r\n       <use x=\"63.623047\" xlink:href=\"#DejaVuSans-46\"/>\r\n       <use x=\"95.410156\" xlink:href=\"#DejaVuSans-55\"/>\r\n       <use x=\"159.033203\" xlink:href=\"#DejaVuSans-53\"/>\r\n      </g>\r\n     </g>\r\n    </g>\r\n    <g id=\"ytick_14\">\r\n     <g id=\"line2d_19\">\r\n      <g>\r\n       <use style=\"stroke:#000000;stroke-width:0.8;\" x=\"411.381688\" xlink:href=\"#mc5241a8608\" y=\"10.999219\"/>\r\n      </g>\r\n     </g>\r\n     <g id=\"text_19\">\r\n      <!-- 1.00 -->\r\n      <g transform=\"translate(418.381688 14.798438)scale(0.1 -0.1)\">\r\n       <use xlink:href=\"#DejaVuSans-49\"/>\r\n       <use x=\"63.623047\" xlink:href=\"#DejaVuSans-46\"/>\r\n       <use x=\"95.410156\" xlink:href=\"#DejaVuSans-48\"/>\r\n       <use x=\"159.033203\" xlink:href=\"#DejaVuSans-48\"/>\r\n      </g>\r\n     </g>\r\n    </g>\r\n   </g>\r\n   <g id=\"patch_4\">\r\n    <path d=\"M 400.509688 228.439219 \r\nL 400.509688 227.589844 \r\nL 400.509688 11.848594 \r\nL 400.509688 10.999219 \r\nL 411.381688 10.999219 \r\nL 411.381688 11.848594 \r\nL 411.381688 227.589844 \r\nL 411.381688 228.439219 \r\nz\r\n\" style=\"fill:none;\"/>\r\n   </g>\r\n  </g>\r\n </g>\r\n <defs>\r\n  <clipPath id=\"p2f04f415ff\">\r\n   <rect height=\"217.44\" width=\"267.84\" x=\"115.929688\" y=\"10.999219\"/>\r\n  </clipPath>\r\n  <clipPath id=\"p8137e199ec\">\r\n   <rect height=\"217.44\" width=\"10.872\" x=\"400.509688\" y=\"10.999219\"/>\r\n  </clipPath>\r\n </defs>\r\n</svg>\r\n",
      "image/png": "[encoded data removed]"
     },
     "metadata": {
      "needs_background": "light"
     }
    }
   ],
   "source": [
    "sns.heatmap(dfMerged.corr());\n"
   ]
  }
 ]
}