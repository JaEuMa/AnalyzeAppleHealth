{
 "metadata": {
  "language_info": {
   "codemirror_mode": {
    "name": "ipython",
    "version": 3
   },
   "file_extension": ".py",
   "mimetype": "text/x-python",
   "name": "python",
   "nbconvert_exporter": "python",
   "pygments_lexer": "ipython3",
   "version": "3.8.0-final"
  },
  "orig_nbformat": 2,
  "kernelspec": {
   "name": "python3",
   "display_name": "Python 3",
   "language": "python"
  }
 },
 "nbformat": 4,
 "nbformat_minor": 2,
 "cells": [
  {
   "cell_type": "code",
   "execution_count": 1,
   "metadata": {},
   "outputs": [
    {
     "output_type": "execute_result",
     "data": {
      "text/plain": [
       "                           @value\n",
       "@creationDate                    \n",
       "2020-11-27 18:23:53+01:00       2\n",
       "2020-11-27 18:50:15+01:00      22\n",
       "2020-11-27 19:10:04+01:00       8\n",
       "2020-11-27 19:20:21+01:00      20\n",
       "2020-11-27 20:01:47+01:00      26\n",
       "...                           ...\n",
       "2021-02-04 13:44:54+01:00     122\n",
       "2021-02-04 14:01:39+01:00      44\n",
       "2021-02-04 14:11:44+01:00     119\n",
       "2021-02-04 16:18:54+01:00      28\n",
       "2021-02-04 16:53:15+01:00      46\n",
       "\n",
       "[1697 rows x 1 columns]"
      ],
      "text/html": "<div>\n<style scoped>\n    .dataframe tbody tr th:only-of-type {\n        vertical-align: middle;\n    }\n\n    .dataframe tbody tr th {\n        vertical-align: top;\n    }\n\n    .dataframe thead th {\n        text-align: right;\n    }\n</style>\n<table border=\"1\" class=\"dataframe\">\n  <thead>\n    <tr style=\"text-align: right;\">\n      <th></th>\n      <th>@value</th>\n    </tr>\n    <tr>\n      <th>@creationDate</th>\n      <th></th>\n    </tr>\n  </thead>\n  <tbody>\n    <tr>\n      <th>2020-11-27 18:23:53+01:00</th>\n      <td>2</td>\n    </tr>\n    <tr>\n      <th>2020-11-27 18:50:15+01:00</th>\n      <td>22</td>\n    </tr>\n    <tr>\n      <th>2020-11-27 19:10:04+01:00</th>\n      <td>8</td>\n    </tr>\n    <tr>\n      <th>2020-11-27 19:20:21+01:00</th>\n      <td>20</td>\n    </tr>\n    <tr>\n      <th>2020-11-27 20:01:47+01:00</th>\n      <td>26</td>\n    </tr>\n    <tr>\n      <th>...</th>\n      <td>...</td>\n    </tr>\n    <tr>\n      <th>2021-02-04 13:44:54+01:00</th>\n      <td>122</td>\n    </tr>\n    <tr>\n      <th>2021-02-04 14:01:39+01:00</th>\n      <td>44</td>\n    </tr>\n    <tr>\n      <th>2021-02-04 14:11:44+01:00</th>\n      <td>119</td>\n    </tr>\n    <tr>\n      <th>2021-02-04 16:18:54+01:00</th>\n      <td>28</td>\n    </tr>\n    <tr>\n      <th>2021-02-04 16:53:15+01:00</th>\n      <td>46</td>\n    </tr>\n  </tbody>\n</table>\n<p>1697 rows × 1 columns</p>\n</div>"
     },
     "metadata": {},
     "execution_count": 1
    }
   ],
   "source": [
    "import pandas as pd\n",
    "import xml.etree.ElementTree as et \n",
    "import xmltodict\n",
    "\n",
    "input_path = './export.xml'\n",
    "\n",
    "with open(input_path, 'r') as xml_file:\n",
    "    input_data = xmltodict.parse(xml_file.read())\n",
    "\n",
    "records_list = input_data['HealthData']['Record']\n",
    "\n",
    "df = pd.DataFrame(records_list)\n",
    "\n",
    "df['@type'].unique()\n",
    "\n",
    "df\n",
    "\n",
    "# convert to date fromat\n",
    "format = '%Y-%m-%d %H:%M:%S %z'\n",
    "\n",
    "df['@creationDate'] = pd.to_datetime(df['@creationDate'],\n",
    "                                     format=format)\n",
    "df['@startDate'] = pd.to_datetime(df['@startDate'],\n",
    "                                  format=format)\n",
    "df['@endDate'] = pd.to_datetime(df['@endDate'],\n",
    "                                format=format)\n",
    "\n",
    "# make dataframe with steps\n",
    "step_counts = df[df['@type'] == 'HKQuantityTypeIdentifierStepCount']\n",
    " \n",
    "# convert to numeric value\n",
    "step_counts.loc[:, '@value'] = pd.to_numeric(\n",
    "    step_counts.loc[:, '@value'])\n",
    "\n",
    "\n",
    "# limit the devices in case of multiple devices\n",
    "#df = df[df['@sourceName'] == 'iPhone XS']\n",
    "\n",
    "step_counts_by_creation = step_counts.groupby('@creationDate').sum()\n",
    "\n",
    "step_counts_by_creation\n",
    "\n",
    "\n",
    "\n"
   ]
  },
  {
   "source": [
    "# Create daily dataframe"
   ],
   "cell_type": "markdown",
   "metadata": {}
  },
  {
   "cell_type": "code",
   "execution_count": 3,
   "metadata": {},
   "outputs": [
    {
     "output_type": "execute_result",
     "data": {
      "text/plain": [
       "@creationDate\n",
       "2020-11-27 00:00:00+01:00     890\n",
       "2020-11-28 00:00:00+01:00    1874\n",
       "2020-11-29 00:00:00+01:00    1259\n",
       "2020-11-30 00:00:00+01:00    1503\n",
       "2020-12-01 00:00:00+01:00    3869\n",
       "                             ... \n",
       "2021-01-31 00:00:00+01:00    6121\n",
       "2021-02-01 00:00:00+01:00    4703\n",
       "2021-02-02 00:00:00+01:00    2179\n",
       "2021-02-03 00:00:00+01:00    4059\n",
       "2021-02-04 00:00:00+01:00     807\n",
       "Freq: D, Name: @value, Length: 70, dtype: int64"
      ]
     },
     "metadata": {},
     "execution_count": 3
    }
   ],
   "source": [
    "by_day = step_counts_by_creation['@value'].resample('D').sum()\n",
    "\n",
    "by_day\n",
    "\n"
   ]
  },
  {
   "cell_type": "code",
   "execution_count": null,
   "metadata": {},
   "outputs": [],
   "source": []
  }
 ]
}